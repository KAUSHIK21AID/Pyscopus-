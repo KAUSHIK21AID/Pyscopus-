{
  "nbformat": 4,
  "nbformat_minor": 0,
  "metadata": {
    "colab": {
      "provenance": []
    },
    "kernelspec": {
      "name": "python3",
      "display_name": "Python 3"
    },
    "language_info": {
      "name": "python"
    }
  },
  "cells": [
    {
      "cell_type": "code",
      "execution_count": null,
      "metadata": {
        "colab": {
          "base_uri": "https://localhost:8080/"
        },
        "id": "HW5_Vy3-tObn",
        "outputId": "235eea1e-a1c7-437f-899c-f05bff3c2e8e"
      },
      "outputs": [
        {
          "output_type": "stream",
          "name": "stdout",
          "text": [
            "Looking in indexes: https://pypi.org/simple, https://us-python.pkg.dev/colab-wheels/public/simple/\n",
            "Collecting pyscopus\n",
            "  Downloading pyscopus-1.0.3-py3-none-any.whl (11 kB)\n",
            "Installing collected packages: pyscopus\n",
            "Successfully installed pyscopus-1.0.3\n"
          ]
        }
      ],
      "source": [
        "pip install pyscopus"
      ]
    },
    {
      "cell_type": "code",
      "source": [
        "!pip install requests-html\n",
        "import requests\n",
        "import urllib\n",
        "import pandas as pd\n",
        "from requests_html import HTML\n",
        "from requests_html import HTMLSession\n",
        "import pyscopus"
      ],
      "metadata": {
        "id": "TPMWmnGVtTM2",
        "colab": {
          "base_uri": "https://localhost:8080/"
        },
        "outputId": "10aa0f58-5176-4555-8ad9-1f9cef1ae55d"
      },
      "execution_count": null,
      "outputs": [
        {
          "output_type": "stream",
          "name": "stdout",
          "text": [
            "Looking in indexes: https://pypi.org/simple, https://us-python.pkg.dev/colab-wheels/public/simple/\n",
            "Collecting requests-html\n",
            "  Downloading requests_html-0.10.0-py3-none-any.whl (13 kB)\n",
            "Requirement already satisfied: requests in /usr/local/lib/python3.10/dist-packages (from requests-html) (2.27.1)\n",
            "Collecting pyquery (from requests-html)\n",
            "  Downloading pyquery-2.0.0-py3-none-any.whl (22 kB)\n",
            "Collecting fake-useragent (from requests-html)\n",
            "  Downloading fake_useragent-1.1.3-py3-none-any.whl (50 kB)\n",
            "\u001b[2K     \u001b[90m━━━━━━━━━━━━━━━━━━━━━━━━━━━━━━━━━━━━━━━━\u001b[0m \u001b[32m50.5/50.5 kB\u001b[0m \u001b[31m7.2 MB/s\u001b[0m eta \u001b[36m0:00:00\u001b[0m\n",
            "\u001b[?25hCollecting parse (from requests-html)\n",
            "  Downloading parse-1.19.0.tar.gz (30 kB)\n",
            "  Preparing metadata (setup.py) ... \u001b[?25l\u001b[?25hdone\n",
            "Collecting bs4 (from requests-html)\n",
            "  Downloading bs4-0.0.1.tar.gz (1.1 kB)\n",
            "  Preparing metadata (setup.py) ... \u001b[?25l\u001b[?25hdone\n",
            "Collecting w3lib (from requests-html)\n",
            "  Downloading w3lib-2.1.1-py3-none-any.whl (21 kB)\n",
            "Collecting pyppeteer>=0.0.14 (from requests-html)\n",
            "  Downloading pyppeteer-1.0.2-py3-none-any.whl (83 kB)\n",
            "\u001b[2K     \u001b[90m━━━━━━━━━━━━━━━━━━━━━━━━━━━━━━━━━━━━━━━━\u001b[0m \u001b[32m83.4/83.4 kB\u001b[0m \u001b[31m11.2 MB/s\u001b[0m eta \u001b[36m0:00:00\u001b[0m\n",
            "\u001b[?25hRequirement already satisfied: appdirs<2.0.0,>=1.4.3 in /usr/local/lib/python3.10/dist-packages (from pyppeteer>=0.0.14->requests-html) (1.4.4)\n",
            "Requirement already satisfied: certifi>=2021 in /usr/local/lib/python3.10/dist-packages (from pyppeteer>=0.0.14->requests-html) (2022.12.7)\n",
            "Collecting importlib-metadata>=1.4 (from pyppeteer>=0.0.14->requests-html)\n",
            "  Downloading importlib_metadata-6.6.0-py3-none-any.whl (22 kB)\n",
            "Collecting pyee<9.0.0,>=8.1.0 (from pyppeteer>=0.0.14->requests-html)\n",
            "  Downloading pyee-8.2.2-py2.py3-none-any.whl (12 kB)\n",
            "Requirement already satisfied: tqdm<5.0.0,>=4.42.1 in /usr/local/lib/python3.10/dist-packages (from pyppeteer>=0.0.14->requests-html) (4.65.0)\n",
            "Requirement already satisfied: urllib3<2.0.0,>=1.25.8 in /usr/local/lib/python3.10/dist-packages (from pyppeteer>=0.0.14->requests-html) (1.26.15)\n",
            "Collecting websockets<11.0,>=10.0 (from pyppeteer>=0.0.14->requests-html)\n",
            "  Downloading websockets-10.4-cp310-cp310-manylinux_2_5_x86_64.manylinux1_x86_64.manylinux_2_17_x86_64.manylinux2014_x86_64.whl (106 kB)\n",
            "\u001b[2K     \u001b[90m━━━━━━━━━━━━━━━━━━━━━━━━━━━━━━━━━━━━━━\u001b[0m \u001b[32m106.8/106.8 kB\u001b[0m \u001b[31m13.6 MB/s\u001b[0m eta \u001b[36m0:00:00\u001b[0m\n",
            "\u001b[?25hRequirement already satisfied: beautifulsoup4 in /usr/local/lib/python3.10/dist-packages (from bs4->requests-html) (4.11.2)\n",
            "Requirement already satisfied: lxml>=2.1 in /usr/local/lib/python3.10/dist-packages (from pyquery->requests-html) (4.9.2)\n",
            "Collecting cssselect>=1.2.0 (from pyquery->requests-html)\n",
            "  Downloading cssselect-1.2.0-py2.py3-none-any.whl (18 kB)\n",
            "Requirement already satisfied: charset-normalizer~=2.0.0 in /usr/local/lib/python3.10/dist-packages (from requests->requests-html) (2.0.12)\n",
            "Requirement already satisfied: idna<4,>=2.5 in /usr/local/lib/python3.10/dist-packages (from requests->requests-html) (3.4)\n",
            "Requirement already satisfied: zipp>=0.5 in /usr/local/lib/python3.10/dist-packages (from importlib-metadata>=1.4->pyppeteer>=0.0.14->requests-html) (3.15.0)\n",
            "Requirement already satisfied: soupsieve>1.2 in /usr/local/lib/python3.10/dist-packages (from beautifulsoup4->bs4->requests-html) (2.4.1)\n",
            "Building wheels for collected packages: bs4, parse\n",
            "  Building wheel for bs4 (setup.py) ... \u001b[?25l\u001b[?25hdone\n",
            "  Created wheel for bs4: filename=bs4-0.0.1-py3-none-any.whl size=1257 sha256=821c2319e115dd01f4f90e35d944fd4bec14ef82c198fea2e385af66da3fda18\n",
            "  Stored in directory: /root/.cache/pip/wheels/25/42/45/b773edc52acb16cd2db4cf1a0b47117e2f69bb4eb300ed0e70\n",
            "  Building wheel for parse (setup.py) ... \u001b[?25l\u001b[?25hdone\n",
            "  Created wheel for parse: filename=parse-1.19.0-py3-none-any.whl size=24570 sha256=fd3c1a5692f9b9d9f0a6e9fa510d4423f59af7e93b31798bb2aa8369f24d5249\n",
            "  Stored in directory: /root/.cache/pip/wheels/70/4b/f0/eaf5a8de646d8676dc25caa01949b9f9d883b8fa2efb435bc3\n",
            "Successfully built bs4 parse\n",
            "Installing collected packages: pyee, parse, fake-useragent, websockets, w3lib, importlib-metadata, cssselect, pyquery, pyppeteer, bs4, requests-html\n",
            "Successfully installed bs4-0.0.1 cssselect-1.2.0 fake-useragent-1.1.3 importlib-metadata-6.6.0 parse-1.19.0 pyee-8.2.2 pyppeteer-1.0.2 pyquery-2.0.0 requests-html-0.10.0 w3lib-2.1.1 websockets-10.4\n"
          ]
        }
      ]
    },
    {
      "cell_type": "code",
      "source": [
        "pyscopus.__version__"
      ],
      "metadata": {
        "id": "YBnnPiGxtlID",
        "colab": {
          "base_uri": "https://localhost:8080/",
          "height": 36
        },
        "outputId": "49eb324a-7c7c-4fe9-f0c6-873da87984a3"
      },
      "execution_count": null,
      "outputs": [
        {
          "output_type": "execute_result",
          "data": {
            "text/plain": [
              "'1.0.3'"
            ],
            "application/vnd.google.colaboratory.intrinsic+json": {
              "type": "string"
            }
          },
          "metadata": {},
          "execution_count": 3
        }
      ]
    },
    {
      "cell_type": "code",
      "source": [
        "\n",
        "from pyscopus import Scopus\n",
        "key = '4970e0c7950575c0c3f90a06adfc8137'\n",
        "scopus = Scopus(key)"
      ],
      "metadata": {
        "id": "WYeG-xTcuKLh"
      },
      "execution_count": null,
      "outputs": []
    },
    {
      "cell_type": "code",
      "source": [
        "n = int(input())\n",
        "search_df = scopus.search(\"KEY(Global Warming)\", count=n,view='STANDARD')"
      ],
      "metadata": {
        "id": "tE0q0qiK7--x",
        "colab": {
          "base_uri": "https://localhost:8080/"
        },
        "outputId": "3efec468-759b-49b1-a30c-7884775872a1"
      },
      "execution_count": null,
      "outputs": [
        {
          "name": "stdout",
          "output_type": "stream",
          "text": [
            "10\n"
          ]
        }
      ]
    },
    {
      "cell_type": "markdown",
      "source": [],
      "metadata": {
        "id": "ro6tDT2dvC7d"
      }
    },
    {
      "cell_type": "code",
      "source": [
        "search_df.head(10)"
      ],
      "metadata": {
        "colab": {
          "base_uri": "https://localhost:8080/",
          "height": 1000
        },
        "id": "STpRguPp8N3q",
        "outputId": "b1602cfe-252a-4b80-c066-b389593199e9"
      },
      "execution_count": null,
      "outputs": [
        {
          "output_type": "execute_result",
          "data": {
            "text/plain": [
              "     scopus_id                                              title  \\\n",
              "0  85149801772  Total-factor energy efficiency of ten major gl...   \n",
              "1  85148537397  Elevated CO<inf>2</inf> increases soil redox p...   \n",
              "2  85158065784  Electric vehicle integration’s impacts on powe...   \n",
              "3  85154057754  Characterization of Auxenochlorella prototheco...   \n",
              "4  85152864067  Multiple episodes of ice loss from the Wilkes ...   \n",
              "5  85152577350  Nanostructuring of Mg-Based Hydrogen Storage M...   \n",
              "6  85152547979  Climate change and the global redistribution o...   \n",
              "7  85151506286  Energy policy simulation in times of crisis: R...   \n",
              "8  85151425659  CO<inf>2</inf> capture and sequestration from ...   \n",
              "9  85151316355  Elevation-dependent intensification of fire da...   \n",
              "\n",
              "                             publication_name      issn  isbn     eissn  \\\n",
              "0   Journal of Environmental Sciences (China)  10010742  None  18787320   \n",
              "1   Journal of Environmental Sciences (China)  10010742  None  18787320   \n",
              "2  Journal of Engineering and Applied Science  11101903  None  25369512   \n",
              "3  Biotechnology for Biofuels and Bioproducts      None  None  27313654   \n",
              "4                       Nature Communications      None  None  20411723   \n",
              "5                          Nano-Micro Letters  23116706  None  21505551   \n",
              "6                      Environmental Evidence      None  None  20472382   \n",
              "7                              Energy Reports      None  None  23524847   \n",
              "8                              Energy Reports      None  None  23524847   \n",
              "9                       Nature Communications      None  None  20411723   \n",
              "\n",
              "  volume page_range  cover_date                         doi  citation_count  \\\n",
              "0    137      41-52  2024-03-01   10.1016/j.jes.2023.02.031               3   \n",
              "1    136      11-20  2024-02-01   10.1016/j.jes.2023.01.003               0   \n",
              "2     70       None  2023-12-01  10.1186/s44147-023-00193-w               0   \n",
              "3     16       None  2023-12-01  10.1186/s13068-023-02318-y               0   \n",
              "4     14       None  2023-12-01  10.1038/s41467-023-37325-y               0   \n",
              "5     15       None  2023-12-01  10.1007/s40820-023-01041-5               0   \n",
              "6     12       None  2023-12-01  10.1186/s13750-023-00296-0               0   \n",
              "7      9  4749-4762  2023-12-01  10.1016/j.egyr.2023.03.120               0   \n",
              "8      9  4701-4712  2023-12-01  10.1016/j.egyr.2023.03.115               0   \n",
              "9     14       None  2023-12-01  10.1038/s41467-023-37311-4               0   \n",
              "\n",
              "                                         affiliation aggregation_type  \\\n",
              "0  [{'name': 'University of Chinese Academy of Sc...          Journal   \n",
              "1  [{'name': 'Nanjing Agricultural University', '...          Journal   \n",
              "2  [{'name': 'Central University of Haryana', 'ci...          Journal   \n",
              "3  [{'name': 'China Agricultural University', 'ci...          Journal   \n",
              "4  [{'name': 'Geological Survey of Japan', 'city'...          Journal   \n",
              "5  [{'name': 'National Engineering Research Cente...          Journal   \n",
              "6  [{'name': 'United States Geological Survey', '...          Journal   \n",
              "7  [{'name': 'Bournemouth University', 'city': 'B...          Journal   \n",
              "8  [{'name': 'University of Tehran', 'city': 'Teh...          Journal   \n",
              "9  [{'name': 'Université du Québec à Montréal', '...          Journal   \n",
              "\n",
              "  subtype_description authors  \\\n",
              "0             Article      []   \n",
              "1             Article      []   \n",
              "2              Review      []   \n",
              "3             Article      []   \n",
              "4             Article      []   \n",
              "5              Review      []   \n",
              "6              Review      []   \n",
              "7             Article      []   \n",
              "8             Article      []   \n",
              "9             Article      []   \n",
              "\n",
              "                                           full_text  \n",
              "0  https://api.elsevier.com/content/article/eid/1...  \n",
              "1  https://api.elsevier.com/content/article/eid/1...  \n",
              "2                                               None  \n",
              "3                                               None  \n",
              "4                                               None  \n",
              "5                                               None  \n",
              "6                                               None  \n",
              "7  https://api.elsevier.com/content/article/eid/1...  \n",
              "8  https://api.elsevier.com/content/article/eid/1...  \n",
              "9                                               None  "
            ],
            "text/html": [
              "\n",
              "  <div id=\"df-ff965bf3-2897-4170-b4c6-875b386ddac3\">\n",
              "    <div class=\"colab-df-container\">\n",
              "      <div>\n",
              "<style scoped>\n",
              "    .dataframe tbody tr th:only-of-type {\n",
              "        vertical-align: middle;\n",
              "    }\n",
              "\n",
              "    .dataframe tbody tr th {\n",
              "        vertical-align: top;\n",
              "    }\n",
              "\n",
              "    .dataframe thead th {\n",
              "        text-align: right;\n",
              "    }\n",
              "</style>\n",
              "<table border=\"1\" class=\"dataframe\">\n",
              "  <thead>\n",
              "    <tr style=\"text-align: right;\">\n",
              "      <th></th>\n",
              "      <th>scopus_id</th>\n",
              "      <th>title</th>\n",
              "      <th>publication_name</th>\n",
              "      <th>issn</th>\n",
              "      <th>isbn</th>\n",
              "      <th>eissn</th>\n",
              "      <th>volume</th>\n",
              "      <th>page_range</th>\n",
              "      <th>cover_date</th>\n",
              "      <th>doi</th>\n",
              "      <th>citation_count</th>\n",
              "      <th>affiliation</th>\n",
              "      <th>aggregation_type</th>\n",
              "      <th>subtype_description</th>\n",
              "      <th>authors</th>\n",
              "      <th>full_text</th>\n",
              "    </tr>\n",
              "  </thead>\n",
              "  <tbody>\n",
              "    <tr>\n",
              "      <th>0</th>\n",
              "      <td>85149801772</td>\n",
              "      <td>Total-factor energy efficiency of ten major gl...</td>\n",
              "      <td>Journal of Environmental Sciences (China)</td>\n",
              "      <td>10010742</td>\n",
              "      <td>None</td>\n",
              "      <td>18787320</td>\n",
              "      <td>137</td>\n",
              "      <td>41-52</td>\n",
              "      <td>2024-03-01</td>\n",
              "      <td>10.1016/j.jes.2023.02.031</td>\n",
              "      <td>3</td>\n",
              "      <td>[{'name': 'University of Chinese Academy of Sc...</td>\n",
              "      <td>Journal</td>\n",
              "      <td>Article</td>\n",
              "      <td>[]</td>\n",
              "      <td>https://api.elsevier.com/content/article/eid/1...</td>\n",
              "    </tr>\n",
              "    <tr>\n",
              "      <th>1</th>\n",
              "      <td>85148537397</td>\n",
              "      <td>Elevated CO&lt;inf&gt;2&lt;/inf&gt; increases soil redox p...</td>\n",
              "      <td>Journal of Environmental Sciences (China)</td>\n",
              "      <td>10010742</td>\n",
              "      <td>None</td>\n",
              "      <td>18787320</td>\n",
              "      <td>136</td>\n",
              "      <td>11-20</td>\n",
              "      <td>2024-02-01</td>\n",
              "      <td>10.1016/j.jes.2023.01.003</td>\n",
              "      <td>0</td>\n",
              "      <td>[{'name': 'Nanjing Agricultural University', '...</td>\n",
              "      <td>Journal</td>\n",
              "      <td>Article</td>\n",
              "      <td>[]</td>\n",
              "      <td>https://api.elsevier.com/content/article/eid/1...</td>\n",
              "    </tr>\n",
              "    <tr>\n",
              "      <th>2</th>\n",
              "      <td>85158065784</td>\n",
              "      <td>Electric vehicle integration’s impacts on powe...</td>\n",
              "      <td>Journal of Engineering and Applied Science</td>\n",
              "      <td>11101903</td>\n",
              "      <td>None</td>\n",
              "      <td>25369512</td>\n",
              "      <td>70</td>\n",
              "      <td>None</td>\n",
              "      <td>2023-12-01</td>\n",
              "      <td>10.1186/s44147-023-00193-w</td>\n",
              "      <td>0</td>\n",
              "      <td>[{'name': 'Central University of Haryana', 'ci...</td>\n",
              "      <td>Journal</td>\n",
              "      <td>Review</td>\n",
              "      <td>[]</td>\n",
              "      <td>None</td>\n",
              "    </tr>\n",
              "    <tr>\n",
              "      <th>3</th>\n",
              "      <td>85154057754</td>\n",
              "      <td>Characterization of Auxenochlorella prototheco...</td>\n",
              "      <td>Biotechnology for Biofuels and Bioproducts</td>\n",
              "      <td>None</td>\n",
              "      <td>None</td>\n",
              "      <td>27313654</td>\n",
              "      <td>16</td>\n",
              "      <td>None</td>\n",
              "      <td>2023-12-01</td>\n",
              "      <td>10.1186/s13068-023-02318-y</td>\n",
              "      <td>0</td>\n",
              "      <td>[{'name': 'China Agricultural University', 'ci...</td>\n",
              "      <td>Journal</td>\n",
              "      <td>Article</td>\n",
              "      <td>[]</td>\n",
              "      <td>None</td>\n",
              "    </tr>\n",
              "    <tr>\n",
              "      <th>4</th>\n",
              "      <td>85152864067</td>\n",
              "      <td>Multiple episodes of ice loss from the Wilkes ...</td>\n",
              "      <td>Nature Communications</td>\n",
              "      <td>None</td>\n",
              "      <td>None</td>\n",
              "      <td>20411723</td>\n",
              "      <td>14</td>\n",
              "      <td>None</td>\n",
              "      <td>2023-12-01</td>\n",
              "      <td>10.1038/s41467-023-37325-y</td>\n",
              "      <td>0</td>\n",
              "      <td>[{'name': 'Geological Survey of Japan', 'city'...</td>\n",
              "      <td>Journal</td>\n",
              "      <td>Article</td>\n",
              "      <td>[]</td>\n",
              "      <td>None</td>\n",
              "    </tr>\n",
              "    <tr>\n",
              "      <th>5</th>\n",
              "      <td>85152577350</td>\n",
              "      <td>Nanostructuring of Mg-Based Hydrogen Storage M...</td>\n",
              "      <td>Nano-Micro Letters</td>\n",
              "      <td>23116706</td>\n",
              "      <td>None</td>\n",
              "      <td>21505551</td>\n",
              "      <td>15</td>\n",
              "      <td>None</td>\n",
              "      <td>2023-12-01</td>\n",
              "      <td>10.1007/s40820-023-01041-5</td>\n",
              "      <td>0</td>\n",
              "      <td>[{'name': 'National Engineering Research Cente...</td>\n",
              "      <td>Journal</td>\n",
              "      <td>Review</td>\n",
              "      <td>[]</td>\n",
              "      <td>None</td>\n",
              "    </tr>\n",
              "    <tr>\n",
              "      <th>6</th>\n",
              "      <td>85152547979</td>\n",
              "      <td>Climate change and the global redistribution o...</td>\n",
              "      <td>Environmental Evidence</td>\n",
              "      <td>None</td>\n",
              "      <td>None</td>\n",
              "      <td>20472382</td>\n",
              "      <td>12</td>\n",
              "      <td>None</td>\n",
              "      <td>2023-12-01</td>\n",
              "      <td>10.1186/s13750-023-00296-0</td>\n",
              "      <td>0</td>\n",
              "      <td>[{'name': 'United States Geological Survey', '...</td>\n",
              "      <td>Journal</td>\n",
              "      <td>Review</td>\n",
              "      <td>[]</td>\n",
              "      <td>None</td>\n",
              "    </tr>\n",
              "    <tr>\n",
              "      <th>7</th>\n",
              "      <td>85151506286</td>\n",
              "      <td>Energy policy simulation in times of crisis: R...</td>\n",
              "      <td>Energy Reports</td>\n",
              "      <td>None</td>\n",
              "      <td>None</td>\n",
              "      <td>23524847</td>\n",
              "      <td>9</td>\n",
              "      <td>4749-4762</td>\n",
              "      <td>2023-12-01</td>\n",
              "      <td>10.1016/j.egyr.2023.03.120</td>\n",
              "      <td>0</td>\n",
              "      <td>[{'name': 'Bournemouth University', 'city': 'B...</td>\n",
              "      <td>Journal</td>\n",
              "      <td>Article</td>\n",
              "      <td>[]</td>\n",
              "      <td>https://api.elsevier.com/content/article/eid/1...</td>\n",
              "    </tr>\n",
              "    <tr>\n",
              "      <th>8</th>\n",
              "      <td>85151425659</td>\n",
              "      <td>CO&lt;inf&gt;2&lt;/inf&gt; capture and sequestration from ...</td>\n",
              "      <td>Energy Reports</td>\n",
              "      <td>None</td>\n",
              "      <td>None</td>\n",
              "      <td>23524847</td>\n",
              "      <td>9</td>\n",
              "      <td>4701-4712</td>\n",
              "      <td>2023-12-01</td>\n",
              "      <td>10.1016/j.egyr.2023.03.115</td>\n",
              "      <td>0</td>\n",
              "      <td>[{'name': 'University of Tehran', 'city': 'Teh...</td>\n",
              "      <td>Journal</td>\n",
              "      <td>Article</td>\n",
              "      <td>[]</td>\n",
              "      <td>https://api.elsevier.com/content/article/eid/1...</td>\n",
              "    </tr>\n",
              "    <tr>\n",
              "      <th>9</th>\n",
              "      <td>85151316355</td>\n",
              "      <td>Elevation-dependent intensification of fire da...</td>\n",
              "      <td>Nature Communications</td>\n",
              "      <td>None</td>\n",
              "      <td>None</td>\n",
              "      <td>20411723</td>\n",
              "      <td>14</td>\n",
              "      <td>None</td>\n",
              "      <td>2023-12-01</td>\n",
              "      <td>10.1038/s41467-023-37311-4</td>\n",
              "      <td>0</td>\n",
              "      <td>[{'name': 'Université du Québec à Montréal', '...</td>\n",
              "      <td>Journal</td>\n",
              "      <td>Article</td>\n",
              "      <td>[]</td>\n",
              "      <td>None</td>\n",
              "    </tr>\n",
              "  </tbody>\n",
              "</table>\n",
              "</div>\n",
              "      <button class=\"colab-df-convert\" onclick=\"convertToInteractive('df-ff965bf3-2897-4170-b4c6-875b386ddac3')\"\n",
              "              title=\"Convert this dataframe to an interactive table.\"\n",
              "              style=\"display:none;\">\n",
              "        \n",
              "  <svg xmlns=\"http://www.w3.org/2000/svg\" height=\"24px\"viewBox=\"0 0 24 24\"\n",
              "       width=\"24px\">\n",
              "    <path d=\"M0 0h24v24H0V0z\" fill=\"none\"/>\n",
              "    <path d=\"M18.56 5.44l.94 2.06.94-2.06 2.06-.94-2.06-.94-.94-2.06-.94 2.06-2.06.94zm-11 1L8.5 8.5l.94-2.06 2.06-.94-2.06-.94L8.5 2.5l-.94 2.06-2.06.94zm10 10l.94 2.06.94-2.06 2.06-.94-2.06-.94-.94-2.06-.94 2.06-2.06.94z\"/><path d=\"M17.41 7.96l-1.37-1.37c-.4-.4-.92-.59-1.43-.59-.52 0-1.04.2-1.43.59L10.3 9.45l-7.72 7.72c-.78.78-.78 2.05 0 2.83L4 21.41c.39.39.9.59 1.41.59.51 0 1.02-.2 1.41-.59l7.78-7.78 2.81-2.81c.8-.78.8-2.07 0-2.86zM5.41 20L4 18.59l7.72-7.72 1.47 1.35L5.41 20z\"/>\n",
              "  </svg>\n",
              "      </button>\n",
              "      \n",
              "  <style>\n",
              "    .colab-df-container {\n",
              "      display:flex;\n",
              "      flex-wrap:wrap;\n",
              "      gap: 12px;\n",
              "    }\n",
              "\n",
              "    .colab-df-convert {\n",
              "      background-color: #E8F0FE;\n",
              "      border: none;\n",
              "      border-radius: 50%;\n",
              "      cursor: pointer;\n",
              "      display: none;\n",
              "      fill: #1967D2;\n",
              "      height: 32px;\n",
              "      padding: 0 0 0 0;\n",
              "      width: 32px;\n",
              "    }\n",
              "\n",
              "    .colab-df-convert:hover {\n",
              "      background-color: #E2EBFA;\n",
              "      box-shadow: 0px 1px 2px rgba(60, 64, 67, 0.3), 0px 1px 3px 1px rgba(60, 64, 67, 0.15);\n",
              "      fill: #174EA6;\n",
              "    }\n",
              "\n",
              "    [theme=dark] .colab-df-convert {\n",
              "      background-color: #3B4455;\n",
              "      fill: #D2E3FC;\n",
              "    }\n",
              "\n",
              "    [theme=dark] .colab-df-convert:hover {\n",
              "      background-color: #434B5C;\n",
              "      box-shadow: 0px 1px 3px 1px rgba(0, 0, 0, 0.15);\n",
              "      filter: drop-shadow(0px 1px 2px rgba(0, 0, 0, 0.3));\n",
              "      fill: #FFFFFF;\n",
              "    }\n",
              "  </style>\n",
              "\n",
              "      <script>\n",
              "        const buttonEl =\n",
              "          document.querySelector('#df-ff965bf3-2897-4170-b4c6-875b386ddac3 button.colab-df-convert');\n",
              "        buttonEl.style.display =\n",
              "          google.colab.kernel.accessAllowed ? 'block' : 'none';\n",
              "\n",
              "        async function convertToInteractive(key) {\n",
              "          const element = document.querySelector('#df-ff965bf3-2897-4170-b4c6-875b386ddac3');\n",
              "          const dataTable =\n",
              "            await google.colab.kernel.invokeFunction('convertToInteractive',\n",
              "                                                     [key], {});\n",
              "          if (!dataTable) return;\n",
              "\n",
              "          const docLinkHtml = 'Like what you see? Visit the ' +\n",
              "            '<a target=\"_blank\" href=https://colab.research.google.com/notebooks/data_table.ipynb>data table notebook</a>'\n",
              "            + ' to learn more about interactive tables.';\n",
              "          element.innerHTML = '';\n",
              "          dataTable['output_type'] = 'display_data';\n",
              "          await google.colab.output.renderOutput(dataTable, element);\n",
              "          const docLink = document.createElement('div');\n",
              "          docLink.innerHTML = docLinkHtml;\n",
              "          element.appendChild(docLink);\n",
              "        }\n",
              "      </script>\n",
              "    </div>\n",
              "  </div>\n",
              "  "
            ]
          },
          "metadata": {},
          "execution_count": 6
        }
      ]
    },
    {
      "cell_type": "code",
      "source": [],
      "metadata": {
        "id": "sB0hR75OGDOi"
      },
      "execution_count": null,
      "outputs": []
    },
    {
      "cell_type": "code",
      "source": [
        "import pandas as pd\n",
        "full_text_link_arr = search_df.full_text.values\n",
        "title = search_df.title.values\n",
        "pub = search_df.publication_name.values\n",
        "full_text_link_arr"
      ],
      "metadata": {
        "colab": {
          "base_uri": "https://localhost:8080/"
        },
        "id": "06Pn_2QAKlvf",
        "outputId": "50ec976f-912a-4793-c73c-2e4b0e573ec8"
      },
      "execution_count": null,
      "outputs": [
        {
          "output_type": "execute_result",
          "data": {
            "text/plain": [
              "array(['https://api.elsevier.com/content/article/eid/1-s2.0-S1001074223000748',\n",
              "       'https://api.elsevier.com/content/article/eid/1-s2.0-S1001074223000086',\n",
              "       None, None, None, None, None,\n",
              "       'https://api.elsevier.com/content/article/eid/1-s2.0-S2352484723003578',\n",
              "       'https://api.elsevier.com/content/article/eid/1-s2.0-S2352484723003529',\n",
              "       None], dtype=object)"
            ]
          },
          "metadata": {},
          "execution_count": 7
        }
      ]
    },
    {
      "cell_type": "code",
      "source": [],
      "metadata": {
        "id": "R_pzor5zLfxw"
      },
      "execution_count": null,
      "outputs": []
    },
    {
      "cell_type": "code",
      "source": [],
      "metadata": {
        "id": "_sKkwLe5PrGC"
      },
      "execution_count": null,
      "outputs": []
    },
    {
      "cell_type": "code",
      "source": [],
      "metadata": {
        "id": "kkvwFzOZX75t"
      },
      "execution_count": null,
      "outputs": []
    },
    {
      "cell_type": "code",
      "source": [],
      "metadata": {
        "id": "XZtcYF_T_LPG"
      },
      "execution_count": null,
      "outputs": []
    },
    {
      "cell_type": "code",
      "source": [
        "full_text_link_arr"
      ],
      "metadata": {
        "id": "OH2KSrNSYdYS",
        "colab": {
          "base_uri": "https://localhost:8080/"
        },
        "outputId": "c0db7d97-b05d-4770-9769-2b6f780623c5"
      },
      "execution_count": null,
      "outputs": [
        {
          "output_type": "execute_result",
          "data": {
            "text/plain": [
              "array(['https://api.elsevier.com/content/article/eid/1-s2.0-S1001074223000748',\n",
              "       'https://api.elsevier.com/content/article/eid/1-s2.0-S1001074223000086',\n",
              "       None, None, None, None, None,\n",
              "       'https://api.elsevier.com/content/article/eid/1-s2.0-S2352484723003578',\n",
              "       'https://api.elsevier.com/content/article/eid/1-s2.0-S2352484723003529',\n",
              "       None], dtype=object)"
            ]
          },
          "metadata": {},
          "execution_count": 8
        }
      ]
    },
    {
      "cell_type": "code",
      "source": [
        "def link_convert(xmlapi):\n",
        "  xmlapi = xmlapi.replace('api.elsevier.com/content','www.sciencedirect.com/science')\n",
        "  xmlapi = xmlapi.replace('eid','pii')\n",
        "  listr = xmlapi.split('1-s2.0-')\n",
        "  xmlapi = listr[0]+listr[1]\n",
        "  return xmlapi"
      ],
      "metadata": {
        "id": "jsvqaPFOPBTG"
      },
      "execution_count": null,
      "outputs": []
    },
    {
      "cell_type": "code",
      "source": [
        "n2 = len(full_text_link_arr)\n",
        "listwww = []\n",
        "titleww = []\n",
        "for i in range(0,n2):\n",
        "  if(str(full_text_link_arr[i])==\"None\"):\n",
        "    continue\n",
        "  else:\n",
        "    titleww.append(title[i])\n",
        "    actual_api = link_convert(full_text_link_arr[i])\n",
        "    listwww.append(actual_api)"
      ],
      "metadata": {
        "id": "do0KAbQNRAXU"
      },
      "execution_count": null,
      "outputs": []
    },
    {
      "cell_type": "code",
      "source": [
        "listwww\n"
      ],
      "metadata": {
        "colab": {
          "base_uri": "https://localhost:8080/"
        },
        "id": "vnJuGxaARRc2",
        "outputId": "33cb3561-e381-4173-ec65-d3063ea69aaf"
      },
      "execution_count": null,
      "outputs": [
        {
          "output_type": "execute_result",
          "data": {
            "text/plain": [
              "['https://www.sciencedirect.com/science/article/pii/S1001074223000748',\n",
              " 'https://www.sciencedirect.com/science/article/pii/S1001074223000086',\n",
              " 'https://www.sciencedirect.com/science/article/pii/S2352484723003578',\n",
              " 'https://www.sciencedirect.com/science/article/pii/S2352484723003529']"
            ]
          },
          "metadata": {},
          "execution_count": 11
        }
      ]
    },
    {
      "cell_type": "code",
      "source": [
        "titleww"
      ],
      "metadata": {
        "colab": {
          "base_uri": "https://localhost:8080/"
        },
        "id": "DH9H1d_SSuxz",
        "outputId": "dfec87ff-106e-4f4a-daac-ef01eacdf034"
      },
      "execution_count": null,
      "outputs": [
        {
          "output_type": "execute_result",
          "data": {
            "text/plain": [
              "['Total-factor energy efficiency of ten major global energy-consuming countries',\n",
              " 'Elevated CO<inf>2</inf> increases soil redox potential by promoting root radial oxygen loss in paddy field',\n",
              " 'Energy policy simulation in times of crisis: Revisiting the impact of renewable and non-renewable energy production on environmental quality in Germany',\n",
              " 'CO<inf>2</inf> capture and sequestration from a mixture of direct air and industrial exhaust gases using MDEA/PZ: Optimal design by process integration with organic rankine cycle']"
            ]
          },
          "metadata": {},
          "execution_count": 12
        }
      ]
    },
    {
      "cell_type": "code",
      "source": [
        "def get_source(url):\n",
        "    \"\"\"Return the source code for the provided URL.\n",
        "\n",
        "    Args:\n",
        "        url (string): URL of the page to scrape.\n",
        "\n",
        "    Returns:\n",
        "        response (object): HTTP response object from requests_html.\n",
        "    \"\"\"\n",
        "\n",
        "    try:\n",
        "        session = HTMLSession()\n",
        "        response = session.get(url)\n",
        "        return response\n",
        "\n",
        "    except requests.exceptions.RequestException as e:\n",
        "        print(e)"
      ],
      "metadata": {
        "id": "PHLBTnsjBc9g"
      },
      "execution_count": null,
      "outputs": []
    },
    {
      "cell_type": "code",
      "source": [
        "def scrape_google(query):\n",
        "\n",
        "    query = urllib.parse.quote_plus(query)\n",
        "    response = get_source(\"https://www.google.co.uk/search?q=\" + query)\n",
        "\n",
        "    links = list(response.html.absolute_links)\n",
        "    google_domains = ('https://www.google.',\n",
        "                      'https://google.',\n",
        "                      'https://webcache.googleusercontent.',\n",
        "                      'http://webcache.googleusercontent.',\n",
        "                      'https://policies.google.',\n",
        "                      'https://support.google.',\n",
        "                      'https://maps.google.')\n",
        "\n",
        "    for url in links[:30]:\n",
        "        if url.startswith(google_domains):\n",
        "            links.remove(url)\n",
        "\n",
        "    return links"
      ],
      "metadata": {
        "id": "B2655ltGBdHH"
      },
      "execution_count": null,
      "outputs": []
    },
    {
      "cell_type": "code",
      "source": [
        "n1 = len(listwww)\n",
        "print(n,n1)\n",
        "listapi = []\n",
        "for i in range(n):\n",
        "  list_google = scrape_google(str(title[i]+\" \"+pub[i])+\" scopus\")\n",
        "  for j in list_google:\n",
        "    gg = 'translate.google.com'\n",
        "    if(j.__contains__('sciencedirect') and (gg not in j) and (j.__contains__('abs'))):\n",
        "      listapi.append(j)\n",
        "      n1 = n1+1\n",
        "      print(n1)\n",
        "    if(n1==n):\n",
        "      break\n",
        "  if(n1==n):\n",
        "    break\n",
        "listapi"
      ],
      "metadata": {
        "colab": {
          "base_uri": "https://localhost:8080/"
        },
        "id": "zQGNPbc8BdN3",
        "outputId": "86ca6f47-0f9b-439e-dc42-8460d7c8cde3"
      },
      "execution_count": null,
      "outputs": [
        {
          "output_type": "stream",
          "name": "stdout",
          "text": [
            "10 4\n",
            "5\n",
            "6\n",
            "7\n",
            "8\n",
            "9\n",
            "10\n"
          ]
        },
        {
          "output_type": "execute_result",
          "data": {
            "text/plain": [
              "['https://www.sciencedirect.com/science/article/abs/pii/S0959652618332980',\n",
              " 'https://www.sciencedirect.com/science/article/abs/pii/S0301420719301710',\n",
              " 'https://www.sciencedirect.com/science/article/abs/pii/S0269749119373269',\n",
              " 'https://www.sciencedirect.com/science/article/abs/pii/S0378429012004662',\n",
              " 'https://www.sciencedirect.com/science/article/abs/pii/S175058361300039X',\n",
              " 'https://www.sciencedirect.com/science/article/abs/pii/S1750583613004271']"
            ]
          },
          "metadata": {},
          "execution_count": 15
        }
      ]
    },
    {
      "cell_type": "code",
      "source": [
        "def author_retrieval(i):\n",
        "  a = []\n",
        "  response = requests.get(\n",
        "  url='https://proxy.scrapeops.io/v1/',\n",
        "  params={\n",
        "  'api_key': 'f8001d4e-d350-45aa-b536-be9f3431ce6d',\n",
        "  'url': i,\n",
        "  }\n",
        "  )\n",
        "  string = str(response.content)\n",
        "  listw = string.split('<span class=\"given-name\">')\n",
        "  nn=len(listw)\n",
        "  for j in range(1,nn):\n",
        "    stringmain = str(listw[j])\n",
        "    split1 = stringmain.split('</span>')\n",
        "    split2 = split1[1].split('<span class=\"text surname\">')\n",
        "    author = split1[0]+\" \"+split2[1]\n",
        "    a.append(author)\n",
        "  return a"
      ],
      "metadata": {
        "id": "mz5XHdCkIFW5"
      },
      "execution_count": null,
      "outputs": []
    },
    {
      "cell_type": "code",
      "source": [
        "def title_retrieval(i):\n",
        "  response = requests.get(\n",
        "\n",
        "  url='https://proxy.scrapeops.io/v1/',\n",
        "  params={\n",
        "  'api_key': 'f8001d4e-d350-45aa-b536-be9f3431ce6d',\n",
        "  'url': i,\n",
        "  }\n",
        "  )\n",
        "  string = str(response.content)\n",
        "  listw = string.split('<title>')\n",
        "  tit = listw[1].split('- ScienceDirect</title>')\n",
        "  return tit[0]"
      ],
      "metadata": {
        "id": "moUvXLb-IFa5"
      },
      "execution_count": null,
      "outputs": []
    },
    {
      "cell_type": "code",
      "source": [
        "authorapi=[]\n",
        "for i in listapi:\n",
        "  authornames = author_retrieval(i)\n",
        "  authorapi.append(authornames)\n",
        "\n",
        "titleapi = []\n",
        "for i in listapi:\n",
        "  tit = title_retrieval(i)\n",
        "  titleapi.append(tit)"
      ],
      "metadata": {
        "id": "dT7xv_LXIFd-"
      },
      "execution_count": null,
      "outputs": []
    },
    {
      "cell_type": "code",
      "source": [
        "titleapi"
      ],
      "metadata": {
        "colab": {
          "base_uri": "https://localhost:8080/"
        },
        "id": "iwNRCnjAWAA_",
        "outputId": "b70ee850-1cea-40f9-f487-b7a4b3db4a2e"
      },
      "execution_count": null,
      "outputs": [
        {
          "output_type": "execute_result",
          "data": {
            "text/plain": [
              "[\"The measurement and influences of China\\\\'s urban total factor energy efficiency under environmental pollution: Based on the game cross-efficiency DEA \",\n",
              " \"The impact of China\\\\'s \\\\xe2\\\\x80\\\\x98Atmosphere Ten Articles\\\\xe2\\\\x80\\\\x99 policy on total factor productivity of energy exploitation: Empirical evidence using synthetic control methods \",\n",
              " 'The within-field spatial variation in rice grain Cd concentration is determined by soil redox status and pH during grain filling ',\n",
              " 'Aerenchyma formation in crop species: A review ',\n",
              " 'A simulation model of a CO2 absorption process with methyldiethanolamine solvent and piperazine as an activator ',\n",
              " 'Simulation and parametric study of post combustion CO2 capture process using (AMP\\\\xc2\\\\xa0+\\\\xc2\\\\xa0PZ) blended solvent ']"
            ]
          },
          "metadata": {},
          "execution_count": 35
        }
      ]
    },
    {
      "cell_type": "code",
      "source": [
        "authorww=[]\n",
        "for i in listwww:\n",
        "  authornames = author_retrieval(i)\n",
        "  authorww.append(authornames)"
      ],
      "metadata": {
        "id": "jShXWcYjIFhL"
      },
      "execution_count": null,
      "outputs": []
    },
    {
      "cell_type": "code",
      "source": [
        "authorapi"
      ],
      "metadata": {
        "colab": {
          "base_uri": "https://localhost:8080/"
        },
        "id": "5dwjw8k_YyHI",
        "outputId": "8da7a484-cff8-40df-b2e1-437be992edfe"
      },
      "execution_count": null,
      "outputs": [
        {
          "output_type": "execute_result",
          "data": {
            "text/plain": [
              "[['Zhongshan Yang', 'Xiaoxue Wei'],\n",
              " ['Jiachao Peng', 'Jianzhong Xiao', 'Lian Zhang', 'Teng Wang'],\n",
              " ['Hongping Chen',\n",
              "  'Peng Wang',\n",
              "  'Yi Gu',\n",
              "  'Ruben Kretzschmar',\n",
              "  'Peter M. Kopittke',\n",
              "  'Fang-Jie Zhao'],\n",
              " ['Takaki Yamauchi',\n",
              "  'Satoshi Shimamura',\n",
              "  'Mikio Nakazono',\n",
              "  'Toshihiro Mochizuki'],\n",
              " ['Sarntharm Mudhasakul', 'Hong-ming Ku', 'Peter L. Douglas'],\n",
              " ['Sukanta Kumar Dash', 'Amar Nath Samanta', 'Syamalendu S. Bandyopadhyay']]"
            ]
          },
          "metadata": {},
          "execution_count": 37
        }
      ]
    },
    {
      "cell_type": "code",
      "source": [
        "links = listwww + listapi\n",
        "titles = titleww + titleapi\n",
        "authors = authorww + authorapi"
      ],
      "metadata": {
        "id": "v3uJG_QnIFq8"
      },
      "execution_count": null,
      "outputs": []
    },
    {
      "cell_type": "code",
      "source": [
        "def affiliation(i):\n",
        "  liss = i.split('pii/')\n",
        "  return liss[1]"
      ],
      "metadata": {
        "id": "tkNtwW75DQx4"
      },
      "execution_count": null,
      "outputs": []
    },
    {
      "cell_type": "code",
      "source": [
        "affiliation_id = []\n",
        "for i in links:\n",
        "  affi = affiliation(i)\n",
        "  affiliation_id.append(affi)\n",
        "print(affiliation_id)"
      ],
      "metadata": {
        "colab": {
          "base_uri": "https://localhost:8080/"
        },
        "id": "b3jHccsJDQ0_",
        "outputId": "c1e4c50c-4226-4257-cdfd-67daddb84d6f"
      },
      "execution_count": null,
      "outputs": [
        {
          "output_type": "stream",
          "name": "stdout",
          "text": [
            "['S1001074223000748', 'S1001074223000086', 'S2352484723003578', 'S2352484723003529', 'S0959652618332980', 'S0301420719301710', 'S0269749119373269', 'S0378429012004662', 'S175058361300039X', 'S1750583613004271']\n"
          ]
        }
      ]
    },
    {
      "cell_type": "code",
      "source": [
        "  # response = requests.get(\n",
        "  # url='https://proxy.scrapeops.io/v1/',\n",
        "  # params={\n",
        "  # 'api_key': '792999b7-2098-4c2e-8ef5-17103b24ee06',\n",
        "  # 'url': i,\n",
        "  # }\n",
        "  # )\n",
        "  # string = str(response.content)\n",
        "  # if(string.__contains__('Corresponding author at: ')):\n",
        "  #   listw = string.split('Corresponding author at: ')\n",
        "  #   aff = listw[1].split('}')\n",
        "  #   return aff\n",
        "  # else:\n",
        "  #   listw = string.split('\"affiliation-id\"')\n",
        "  #   aff = listw[1].split('\"#name\":\"label\",\"_\":')\n",
        "  #   aff1 = aff[1].split('_\":\"')\n",
        "  #   aff2 = aff1[1].split('\"}')\n",
        "  #   return aff2[0]\n",
        "  #   # aff2 = aff1[1].split('_\":\"')\n",
        "  #   # print(aff2[1])\n",
        "  # print(titi[0])"
      ],
      "metadata": {
        "id": "L4xEWDf9D5mB"
      },
      "execution_count": null,
      "outputs": []
    },
    {
      "cell_type": "code",
      "source": [
        "def country_retrieval(i):\n",
        "  response = requests.get(\n",
        "  url='https://proxy.scrapeops.io/v1/',\n",
        "  params={\n",
        "  'api_key': '  f8001d4e-d350-45aa-b536-be9f3431ce6d',\n",
        "  'url':i,\n",
        "  }\n",
        "  )\n",
        "  string = str(response.content)\n",
        "  listw = string.split('country\",\"_\":\"')\n",
        "  countr = listw[1].split('\"}')\n",
        "  return countr[0]"
      ],
      "metadata": {
        "id": "huxPjMiDDQ4N"
      },
      "execution_count": null,
      "outputs": []
    },
    {
      "cell_type": "code",
      "source": [
        "countries = []\n",
        "for i in links:\n",
        "  c = country_retrieval(i)\n",
        "  countries.append(c)"
      ],
      "metadata": {
        "id": "POqn4AhRSzdR",
        "colab": {
          "base_uri": "https://localhost:8080/",
          "height": 321
        },
        "outputId": "33e45346-ab9a-4668-abb8-fed005509cc5"
      },
      "execution_count": null,
      "outputs": [
        {
          "output_type": "error",
          "ename": "IndexError",
          "evalue": "ignored",
          "traceback": [
            "\u001b[0;31m---------------------------------------------------------------------------\u001b[0m",
            "\u001b[0;31mIndexError\u001b[0m                                Traceback (most recent call last)",
            "\u001b[0;32m<ipython-input-43-6782607c4168>\u001b[0m in \u001b[0;36m<cell line: 2>\u001b[0;34m()\u001b[0m\n\u001b[1;32m      1\u001b[0m \u001b[0mcountries\u001b[0m \u001b[0;34m=\u001b[0m \u001b[0;34m[\u001b[0m\u001b[0;34m]\u001b[0m\u001b[0;34m\u001b[0m\u001b[0;34m\u001b[0m\u001b[0m\n\u001b[1;32m      2\u001b[0m \u001b[0;32mfor\u001b[0m \u001b[0mi\u001b[0m \u001b[0;32min\u001b[0m \u001b[0mlinks\u001b[0m\u001b[0;34m:\u001b[0m\u001b[0;34m\u001b[0m\u001b[0;34m\u001b[0m\u001b[0m\n\u001b[0;32m----> 3\u001b[0;31m   \u001b[0mc\u001b[0m \u001b[0;34m=\u001b[0m \u001b[0mcountry_retrieval\u001b[0m\u001b[0;34m(\u001b[0m\u001b[0mi\u001b[0m\u001b[0;34m)\u001b[0m\u001b[0;34m\u001b[0m\u001b[0;34m\u001b[0m\u001b[0m\n\u001b[0m\u001b[1;32m      4\u001b[0m   \u001b[0mcountries\u001b[0m\u001b[0;34m.\u001b[0m\u001b[0mappend\u001b[0m\u001b[0;34m(\u001b[0m\u001b[0mc\u001b[0m\u001b[0;34m)\u001b[0m\u001b[0;34m\u001b[0m\u001b[0;34m\u001b[0m\u001b[0m\n",
            "\u001b[0;32m<ipython-input-42-5e9b9d73cdee>\u001b[0m in \u001b[0;36mcountry_retrieval\u001b[0;34m(i)\u001b[0m\n\u001b[1;32m      9\u001b[0m   \u001b[0mstring\u001b[0m \u001b[0;34m=\u001b[0m \u001b[0mstr\u001b[0m\u001b[0;34m(\u001b[0m\u001b[0mresponse\u001b[0m\u001b[0;34m.\u001b[0m\u001b[0mcontent\u001b[0m\u001b[0;34m)\u001b[0m\u001b[0;34m\u001b[0m\u001b[0;34m\u001b[0m\u001b[0m\n\u001b[1;32m     10\u001b[0m   \u001b[0mlistw\u001b[0m \u001b[0;34m=\u001b[0m \u001b[0mstring\u001b[0m\u001b[0;34m.\u001b[0m\u001b[0msplit\u001b[0m\u001b[0;34m(\u001b[0m\u001b[0;34m'country\",\"_\":\"'\u001b[0m\u001b[0;34m)\u001b[0m\u001b[0;34m\u001b[0m\u001b[0;34m\u001b[0m\u001b[0m\n\u001b[0;32m---> 11\u001b[0;31m   \u001b[0mcountr\u001b[0m \u001b[0;34m=\u001b[0m \u001b[0mlistw\u001b[0m\u001b[0;34m[\u001b[0m\u001b[0;36m1\u001b[0m\u001b[0;34m]\u001b[0m\u001b[0;34m.\u001b[0m\u001b[0msplit\u001b[0m\u001b[0;34m(\u001b[0m\u001b[0;34m'\"}'\u001b[0m\u001b[0;34m)\u001b[0m\u001b[0;34m\u001b[0m\u001b[0;34m\u001b[0m\u001b[0m\n\u001b[0m\u001b[1;32m     12\u001b[0m   \u001b[0;32mreturn\u001b[0m \u001b[0mcountr\u001b[0m\u001b[0;34m[\u001b[0m\u001b[0;36m0\u001b[0m\u001b[0;34m]\u001b[0m\u001b[0;34m\u001b[0m\u001b[0;34m\u001b[0m\u001b[0m\n",
            "\u001b[0;31mIndexError\u001b[0m: list index out of range"
          ]
        }
      ]
    },
    {
      "cell_type": "code",
      "source": [
        "countries"
      ],
      "metadata": {
        "id": "2c-EqSdKTT_T",
        "colab": {
          "base_uri": "https://localhost:8080/"
        },
        "outputId": "579c291a-98b4-4bd3-abb9-c4f8a664f910"
      },
      "execution_count": null,
      "outputs": [
        {
          "output_type": "execute_result",
          "data": {
            "text/plain": [
              "[]"
            ]
          },
          "metadata": {},
          "execution_count": 188
        }
      ]
    },
    {
      "cell_type": "code",
      "source": [
        "\n",
        "\n"
      ],
      "metadata": {
        "id": "tteprhC39xCG"
      },
      "execution_count": null,
      "outputs": []
    },
    {
      "cell_type": "code",
      "source": [],
      "metadata": {
        "id": "AOx7tvBr-JBO"
      },
      "execution_count": null,
      "outputs": []
    },
    {
      "cell_type": "code",
      "source": [
        "# emailww = []\n",
        "# for i in listwww:\n",
        "#   email_ids = email_retrieval(i)\n",
        "#   emailww.append(email_ids)\n",
        "# emailww\n"
      ],
      "metadata": {
        "id": "MOPzNz74GP51"
      },
      "execution_count": null,
      "outputs": []
    },
    {
      "cell_type": "code",
      "source": [
        "# def email_retrieval(i):\n",
        "#   mails = []\n",
        "#   response = requests.get(\n",
        "#   url='https://proxy.scrapeops.io/v1/',\n",
        "#   params={\n",
        "#   'api_key': '792999b7-2098-4c2e-8ef5-17103b24ee06',\n",
        "#   'url': i,\n",
        "#   }\n",
        "#   )\n",
        "#   string = str(response.content)\n",
        "#   listttt = string.split('\"type\":\"email\"')\n",
        "#   nmm=len(listttt)\n",
        "#   for j in range(0,nmm):\n",
        "#     listt = listttt[j].split(' ')\n",
        "#     mail = listt[0].split('\"')\n",
        "#     for k in mail:\n",
        "#       if(k.__contains__('@')==True):\n",
        "#         mails.append(k)\n",
        "#         break\n",
        "#   mailss = []\n",
        "#   for t in mails:\n",
        "#     if t not in mailss:\n",
        "#       mailss.append(t)\n",
        "# #   return mailss\n",
        "# 792999b7-2098-4c2e-8ef5-17103b24ee06"
      ],
      "metadata": {
        "id": "h2YLMOy3GQOC"
      },
      "execution_count": null,
      "outputs": []
    },
    {
      "cell_type": "code",
      "source": [
        "authors"
      ],
      "metadata": {
        "colab": {
          "base_uri": "https://localhost:8080/"
        },
        "id": "VzGCQlBUT-fu",
        "outputId": "de74ccfa-0059-429f-c5b2-9675ca74f2fe"
      },
      "execution_count": null,
      "outputs": [
        {
          "output_type": "execute_result",
          "data": {
            "text/plain": [
              "[['Xuan Wang', 'Yonglong Lu', 'Chunci Chen', 'Xiaojie Yi', 'Haotian Cui'],\n",
              " ['Jie Li',\n",
              "  'Han Zhang',\n",
              "  'Wenyi Xie',\n",
              "  'Cheng Liu',\n",
              "  'Xiaoyu Liu',\n",
              "  'Xuhui Zhang',\n",
              "  'Lianqing Li',\n",
              "  'Genxing Pan'],\n",
              " ['Festus Fatai Adedoyin',\n",
              "  'Naila Erum',\n",
              "  'Dilvin Ta\\\\xc5\\\\x9fkin',\n",
              "  'Daouia Chebab'],\n",
              " ['Mohammadreza Malekli',\n",
              "  'Alireza Aslani',\n",
              "  'Zahra Zolfaghari',\n",
              "  'Rahim Zahedi'],\n",
              " ['Zhongshan Yang', 'Xiaoxue Wei'],\n",
              " ['Jiachao Peng', 'Jianzhong Xiao', 'Lian Zhang', 'Teng Wang'],\n",
              " ['Hongping Chen',\n",
              "  'Peng Wang',\n",
              "  'Yi Gu',\n",
              "  'Ruben Kretzschmar',\n",
              "  'Peter M. Kopittke',\n",
              "  'Fang-Jie Zhao'],\n",
              " ['Takaki Yamauchi',\n",
              "  'Satoshi Shimamura',\n",
              "  'Mikio Nakazono',\n",
              "  'Toshihiro Mochizuki'],\n",
              " ['Sarntharm Mudhasakul', 'Hong-ming Ku', 'Peter L. Douglas'],\n",
              " ['Sukanta Kumar Dash', 'Amar Nath Samanta', 'Syamalendu S. Bandyopadhyay']]"
            ]
          },
          "metadata": {},
          "execution_count": 113
        }
      ]
    },
    {
      "cell_type": "code",
      "source": [
        "output_dataframe = pd.DataFrame(columns=['TITLE','AUTHORS','LINKS','AFFILIATION ID','COUNTRY'])"
      ],
      "metadata": {
        "id": "IqDswFRDUA7W"
      },
      "execution_count": null,
      "outputs": []
    },
    {
      "cell_type": "code",
      "source": [],
      "metadata": {
        "id": "3PnaD2boVakd"
      },
      "execution_count": null,
      "outputs": []
    },
    {
      "cell_type": "code",
      "source": [
        "n = len(links)\n",
        "for i in range(0,n):\n",
        "  output_dataframe = output_dataframe.append({'TITLE' : titles[i], 'AUTHORS':authors[i], 'LINKS':links[i],'AFFILIATION ID':affiliation_id[i],'COUNTRY':countries[i]},\n",
        "        ignore_index = True)"
      ],
      "metadata": {
        "colab": {
          "base_uri": "https://localhost:8080/"
        },
        "id": "inYUTWwGXzBc",
        "outputId": "88a32ae5-18e2-463f-c1ff-6c9d4afd5e3b"
      },
      "execution_count": null,
      "outputs": [
        {
          "output_type": "stream",
          "name": "stderr",
          "text": [
            "<ipython-input-125-06f07db5f9b2>:3: FutureWarning: The frame.append method is deprecated and will be removed from pandas in a future version. Use pandas.concat instead.\n",
            "  output_dataframe = output_dataframe.append({'TITLE' : titles[i], 'AUTHORS':authors[i], 'LINKS':links[i],'AFFILIATION ID':affiliation_id[i],'COUNTRY':countries[i]},\n",
            "<ipython-input-125-06f07db5f9b2>:3: FutureWarning: The frame.append method is deprecated and will be removed from pandas in a future version. Use pandas.concat instead.\n",
            "  output_dataframe = output_dataframe.append({'TITLE' : titles[i], 'AUTHORS':authors[i], 'LINKS':links[i],'AFFILIATION ID':affiliation_id[i],'COUNTRY':countries[i]},\n",
            "<ipython-input-125-06f07db5f9b2>:3: FutureWarning: The frame.append method is deprecated and will be removed from pandas in a future version. Use pandas.concat instead.\n",
            "  output_dataframe = output_dataframe.append({'TITLE' : titles[i], 'AUTHORS':authors[i], 'LINKS':links[i],'AFFILIATION ID':affiliation_id[i],'COUNTRY':countries[i]},\n",
            "<ipython-input-125-06f07db5f9b2>:3: FutureWarning: The frame.append method is deprecated and will be removed from pandas in a future version. Use pandas.concat instead.\n",
            "  output_dataframe = output_dataframe.append({'TITLE' : titles[i], 'AUTHORS':authors[i], 'LINKS':links[i],'AFFILIATION ID':affiliation_id[i],'COUNTRY':countries[i]},\n",
            "<ipython-input-125-06f07db5f9b2>:3: FutureWarning: The frame.append method is deprecated and will be removed from pandas in a future version. Use pandas.concat instead.\n",
            "  output_dataframe = output_dataframe.append({'TITLE' : titles[i], 'AUTHORS':authors[i], 'LINKS':links[i],'AFFILIATION ID':affiliation_id[i],'COUNTRY':countries[i]},\n",
            "<ipython-input-125-06f07db5f9b2>:3: FutureWarning: The frame.append method is deprecated and will be removed from pandas in a future version. Use pandas.concat instead.\n",
            "  output_dataframe = output_dataframe.append({'TITLE' : titles[i], 'AUTHORS':authors[i], 'LINKS':links[i],'AFFILIATION ID':affiliation_id[i],'COUNTRY':countries[i]},\n",
            "<ipython-input-125-06f07db5f9b2>:3: FutureWarning: The frame.append method is deprecated and will be removed from pandas in a future version. Use pandas.concat instead.\n",
            "  output_dataframe = output_dataframe.append({'TITLE' : titles[i], 'AUTHORS':authors[i], 'LINKS':links[i],'AFFILIATION ID':affiliation_id[i],'COUNTRY':countries[i]},\n",
            "<ipython-input-125-06f07db5f9b2>:3: FutureWarning: The frame.append method is deprecated and will be removed from pandas in a future version. Use pandas.concat instead.\n",
            "  output_dataframe = output_dataframe.append({'TITLE' : titles[i], 'AUTHORS':authors[i], 'LINKS':links[i],'AFFILIATION ID':affiliation_id[i],'COUNTRY':countries[i]},\n",
            "<ipython-input-125-06f07db5f9b2>:3: FutureWarning: The frame.append method is deprecated and will be removed from pandas in a future version. Use pandas.concat instead.\n",
            "  output_dataframe = output_dataframe.append({'TITLE' : titles[i], 'AUTHORS':authors[i], 'LINKS':links[i],'AFFILIATION ID':affiliation_id[i],'COUNTRY':countries[i]},\n",
            "<ipython-input-125-06f07db5f9b2>:3: FutureWarning: The frame.append method is deprecated and will be removed from pandas in a future version. Use pandas.concat instead.\n",
            "  output_dataframe = output_dataframe.append({'TITLE' : titles[i], 'AUTHORS':authors[i], 'LINKS':links[i],'AFFILIATION ID':affiliation_id[i],'COUNTRY':countries[i]},\n"
          ]
        }
      ]
    },
    {
      "cell_type": "code",
      "source": [
        "output_dataframe"
      ],
      "metadata": {
        "colab": {
          "base_uri": "https://localhost:8080/",
          "height": 363
        },
        "id": "2fN6wgi_YHjj",
        "outputId": "23979cff-3b34-4b54-f890-3c9ee7521405"
      },
      "execution_count": null,
      "outputs": [
        {
          "output_type": "execute_result",
          "data": {
            "text/plain": [
              "                                               TITLE  \\\n",
              "0  Total-factor energy efficiency of ten major gl...   \n",
              "1  Elevated CO<inf>2</inf> increases soil redox p...   \n",
              "2  Energy policy simulation in times of crisis: R...   \n",
              "3  CO<inf>2</inf> capture and sequestration from ...   \n",
              "4  The measurement and influences of China\\'s urb...   \n",
              "5  The impact of China\\'s \\xe2\\x80\\x98Atmosphere ...   \n",
              "6  The within-field spatial variation in rice gra...   \n",
              "7    Aerenchyma formation in crop species: A review    \n",
              "8  A simulation model of a CO2 absorption process...   \n",
              "9  Simulation and parametric study of post combus...   \n",
              "\n",
              "                                             AUTHORS  \\\n",
              "0  [Xuan Wang, Yonglong Lu, Chunci Chen, Xiaojie ...   \n",
              "1  [Jie Li, Han Zhang, Wenyi Xie, Cheng Liu, Xiao...   \n",
              "2  [Festus Fatai Adedoyin, Naila Erum, Dilvin Ta\\...   \n",
              "3  [Mohammadreza Malekli, Alireza Aslani, Zahra Z...   \n",
              "4                      [Zhongshan Yang, Xiaoxue Wei]   \n",
              "5  [Jiachao Peng, Jianzhong Xiao, Lian Zhang, Ten...   \n",
              "6  [Hongping Chen, Peng Wang, Yi Gu, Ruben Kretzs...   \n",
              "7  [Takaki Yamauchi, Satoshi Shimamura, Mikio Nak...   \n",
              "8  [Sarntharm Mudhasakul, Hong-ming Ku, Peter L. ...   \n",
              "9  [Sukanta Kumar Dash, Amar Nath Samanta, Syamal...   \n",
              "\n",
              "                                               LINKS     AFFILIATION ID  \\\n",
              "0  https://www.sciencedirect.com/science/article/...  S1001074223000748   \n",
              "1  https://www.sciencedirect.com/science/article/...  S1001074223000086   \n",
              "2  https://www.sciencedirect.com/science/article/...  S2352484723003578   \n",
              "3  https://www.sciencedirect.com/science/article/...  S2352484723003529   \n",
              "4  https://www.sciencedirect.com/science/article/...  S0959652618332980   \n",
              "5  https://www.sciencedirect.com/science/article/...  S0301420719301710   \n",
              "6  https://www.sciencedirect.com/science/article/...  S0269749119373269   \n",
              "7  https://www.sciencedirect.com/science/article/...  S0378429012004662   \n",
              "8  https://www.sciencedirect.com/science/article/...  S175058361300039X   \n",
              "9  https://www.sciencedirect.com/science/article/...  S1750583613004271   \n",
              "\n",
              "          COUNTRY  \n",
              "0           China  \n",
              "1           China  \n",
              "2  United Kingdom  \n",
              "3            Iran  \n",
              "4           China  \n",
              "5           China  \n",
              "6           China  \n",
              "7       P.R.China  \n",
              "8          Canada  \n",
              "9           India  "
            ],
            "text/html": [
              "\n",
              "  <div id=\"df-ae4f8e18-90fd-4499-a328-5500ea8d87c6\">\n",
              "    <div class=\"colab-df-container\">\n",
              "      <div>\n",
              "<style scoped>\n",
              "    .dataframe tbody tr th:only-of-type {\n",
              "        vertical-align: middle;\n",
              "    }\n",
              "\n",
              "    .dataframe tbody tr th {\n",
              "        vertical-align: top;\n",
              "    }\n",
              "\n",
              "    .dataframe thead th {\n",
              "        text-align: right;\n",
              "    }\n",
              "</style>\n",
              "<table border=\"1\" class=\"dataframe\">\n",
              "  <thead>\n",
              "    <tr style=\"text-align: right;\">\n",
              "      <th></th>\n",
              "      <th>TITLE</th>\n",
              "      <th>AUTHORS</th>\n",
              "      <th>LINKS</th>\n",
              "      <th>AFFILIATION ID</th>\n",
              "      <th>COUNTRY</th>\n",
              "    </tr>\n",
              "  </thead>\n",
              "  <tbody>\n",
              "    <tr>\n",
              "      <th>0</th>\n",
              "      <td>Total-factor energy efficiency of ten major gl...</td>\n",
              "      <td>[Xuan Wang, Yonglong Lu, Chunci Chen, Xiaojie ...</td>\n",
              "      <td>https://www.sciencedirect.com/science/article/...</td>\n",
              "      <td>S1001074223000748</td>\n",
              "      <td>China</td>\n",
              "    </tr>\n",
              "    <tr>\n",
              "      <th>1</th>\n",
              "      <td>Elevated CO&lt;inf&gt;2&lt;/inf&gt; increases soil redox p...</td>\n",
              "      <td>[Jie Li, Han Zhang, Wenyi Xie, Cheng Liu, Xiao...</td>\n",
              "      <td>https://www.sciencedirect.com/science/article/...</td>\n",
              "      <td>S1001074223000086</td>\n",
              "      <td>China</td>\n",
              "    </tr>\n",
              "    <tr>\n",
              "      <th>2</th>\n",
              "      <td>Energy policy simulation in times of crisis: R...</td>\n",
              "      <td>[Festus Fatai Adedoyin, Naila Erum, Dilvin Ta\\...</td>\n",
              "      <td>https://www.sciencedirect.com/science/article/...</td>\n",
              "      <td>S2352484723003578</td>\n",
              "      <td>United Kingdom</td>\n",
              "    </tr>\n",
              "    <tr>\n",
              "      <th>3</th>\n",
              "      <td>CO&lt;inf&gt;2&lt;/inf&gt; capture and sequestration from ...</td>\n",
              "      <td>[Mohammadreza Malekli, Alireza Aslani, Zahra Z...</td>\n",
              "      <td>https://www.sciencedirect.com/science/article/...</td>\n",
              "      <td>S2352484723003529</td>\n",
              "      <td>Iran</td>\n",
              "    </tr>\n",
              "    <tr>\n",
              "      <th>4</th>\n",
              "      <td>The measurement and influences of China\\'s urb...</td>\n",
              "      <td>[Zhongshan Yang, Xiaoxue Wei]</td>\n",
              "      <td>https://www.sciencedirect.com/science/article/...</td>\n",
              "      <td>S0959652618332980</td>\n",
              "      <td>China</td>\n",
              "    </tr>\n",
              "    <tr>\n",
              "      <th>5</th>\n",
              "      <td>The impact of China\\'s \\xe2\\x80\\x98Atmosphere ...</td>\n",
              "      <td>[Jiachao Peng, Jianzhong Xiao, Lian Zhang, Ten...</td>\n",
              "      <td>https://www.sciencedirect.com/science/article/...</td>\n",
              "      <td>S0301420719301710</td>\n",
              "      <td>China</td>\n",
              "    </tr>\n",
              "    <tr>\n",
              "      <th>6</th>\n",
              "      <td>The within-field spatial variation in rice gra...</td>\n",
              "      <td>[Hongping Chen, Peng Wang, Yi Gu, Ruben Kretzs...</td>\n",
              "      <td>https://www.sciencedirect.com/science/article/...</td>\n",
              "      <td>S0269749119373269</td>\n",
              "      <td>China</td>\n",
              "    </tr>\n",
              "    <tr>\n",
              "      <th>7</th>\n",
              "      <td>Aerenchyma formation in crop species: A review</td>\n",
              "      <td>[Takaki Yamauchi, Satoshi Shimamura, Mikio Nak...</td>\n",
              "      <td>https://www.sciencedirect.com/science/article/...</td>\n",
              "      <td>S0378429012004662</td>\n",
              "      <td>P.R.China</td>\n",
              "    </tr>\n",
              "    <tr>\n",
              "      <th>8</th>\n",
              "      <td>A simulation model of a CO2 absorption process...</td>\n",
              "      <td>[Sarntharm Mudhasakul, Hong-ming Ku, Peter L. ...</td>\n",
              "      <td>https://www.sciencedirect.com/science/article/...</td>\n",
              "      <td>S175058361300039X</td>\n",
              "      <td>Canada</td>\n",
              "    </tr>\n",
              "    <tr>\n",
              "      <th>9</th>\n",
              "      <td>Simulation and parametric study of post combus...</td>\n",
              "      <td>[Sukanta Kumar Dash, Amar Nath Samanta, Syamal...</td>\n",
              "      <td>https://www.sciencedirect.com/science/article/...</td>\n",
              "      <td>S1750583613004271</td>\n",
              "      <td>India</td>\n",
              "    </tr>\n",
              "  </tbody>\n",
              "</table>\n",
              "</div>\n",
              "      <button class=\"colab-df-convert\" onclick=\"convertToInteractive('df-ae4f8e18-90fd-4499-a328-5500ea8d87c6')\"\n",
              "              title=\"Convert this dataframe to an interactive table.\"\n",
              "              style=\"display:none;\">\n",
              "        \n",
              "  <svg xmlns=\"http://www.w3.org/2000/svg\" height=\"24px\"viewBox=\"0 0 24 24\"\n",
              "       width=\"24px\">\n",
              "    <path d=\"M0 0h24v24H0V0z\" fill=\"none\"/>\n",
              "    <path d=\"M18.56 5.44l.94 2.06.94-2.06 2.06-.94-2.06-.94-.94-2.06-.94 2.06-2.06.94zm-11 1L8.5 8.5l.94-2.06 2.06-.94-2.06-.94L8.5 2.5l-.94 2.06-2.06.94zm10 10l.94 2.06.94-2.06 2.06-.94-2.06-.94-.94-2.06-.94 2.06-2.06.94z\"/><path d=\"M17.41 7.96l-1.37-1.37c-.4-.4-.92-.59-1.43-.59-.52 0-1.04.2-1.43.59L10.3 9.45l-7.72 7.72c-.78.78-.78 2.05 0 2.83L4 21.41c.39.39.9.59 1.41.59.51 0 1.02-.2 1.41-.59l7.78-7.78 2.81-2.81c.8-.78.8-2.07 0-2.86zM5.41 20L4 18.59l7.72-7.72 1.47 1.35L5.41 20z\"/>\n",
              "  </svg>\n",
              "      </button>\n",
              "      \n",
              "  <style>\n",
              "    .colab-df-container {\n",
              "      display:flex;\n",
              "      flex-wrap:wrap;\n",
              "      gap: 12px;\n",
              "    }\n",
              "\n",
              "    .colab-df-convert {\n",
              "      background-color: #E8F0FE;\n",
              "      border: none;\n",
              "      border-radius: 50%;\n",
              "      cursor: pointer;\n",
              "      display: none;\n",
              "      fill: #1967D2;\n",
              "      height: 32px;\n",
              "      padding: 0 0 0 0;\n",
              "      width: 32px;\n",
              "    }\n",
              "\n",
              "    .colab-df-convert:hover {\n",
              "      background-color: #E2EBFA;\n",
              "      box-shadow: 0px 1px 2px rgba(60, 64, 67, 0.3), 0px 1px 3px 1px rgba(60, 64, 67, 0.15);\n",
              "      fill: #174EA6;\n",
              "    }\n",
              "\n",
              "    [theme=dark] .colab-df-convert {\n",
              "      background-color: #3B4455;\n",
              "      fill: #D2E3FC;\n",
              "    }\n",
              "\n",
              "    [theme=dark] .colab-df-convert:hover {\n",
              "      background-color: #434B5C;\n",
              "      box-shadow: 0px 1px 3px 1px rgba(0, 0, 0, 0.15);\n",
              "      filter: drop-shadow(0px 1px 2px rgba(0, 0, 0, 0.3));\n",
              "      fill: #FFFFFF;\n",
              "    }\n",
              "  </style>\n",
              "\n",
              "      <script>\n",
              "        const buttonEl =\n",
              "          document.querySelector('#df-ae4f8e18-90fd-4499-a328-5500ea8d87c6 button.colab-df-convert');\n",
              "        buttonEl.style.display =\n",
              "          google.colab.kernel.accessAllowed ? 'block' : 'none';\n",
              "\n",
              "        async function convertToInteractive(key) {\n",
              "          const element = document.querySelector('#df-ae4f8e18-90fd-4499-a328-5500ea8d87c6');\n",
              "          const dataTable =\n",
              "            await google.colab.kernel.invokeFunction('convertToInteractive',\n",
              "                                                     [key], {});\n",
              "          if (!dataTable) return;\n",
              "\n",
              "          const docLinkHtml = 'Like what you see? Visit the ' +\n",
              "            '<a target=\"_blank\" href=https://colab.research.google.com/notebooks/data_table.ipynb>data table notebook</a>'\n",
              "            + ' to learn more about interactive tables.';\n",
              "          element.innerHTML = '';\n",
              "          dataTable['output_type'] = 'display_data';\n",
              "          await google.colab.output.renderOutput(dataTable, element);\n",
              "          const docLink = document.createElement('div');\n",
              "          docLink.innerHTML = docLinkHtml;\n",
              "          element.appendChild(docLink);\n",
              "        }\n",
              "      </script>\n",
              "    </div>\n",
              "  </div>\n",
              "  "
            ]
          },
          "metadata": {},
          "execution_count": 126
        }
      ]
    },
    {
      "cell_type": "code",
      "source": [
        "file_name = '/content/drive/MyDrive/scopus.xlsx'\n",
        "\n",
        "output_dataframe.to_excel(file_name)"
      ],
      "metadata": {
        "id": "H4dqaoHkZ7SA"
      },
      "execution_count": null,
      "outputs": []
    },
    {
      "cell_type": "code",
      "source": [],
      "metadata": {
        "id": "MKnLwb4laD5R"
      },
      "execution_count": null,
      "outputs": []
    },
    {
      "cell_type": "code",
      "source": [
        "# stringe"
      ],
      "metadata": {
        "id": "qZaelI28aF6e"
      },
      "execution_count": null,
      "outputs": []
    },
    {
      "cell_type": "code",
      "source": [
        "# listttt = stringe.split('\"type\":\"email\"')\n",
        "# nmm=len(listttt)"
      ],
      "metadata": {
        "id": "X6frblslaJpY"
      },
      "execution_count": null,
      "outputs": []
    },
    {
      "cell_type": "code",
      "source": [
        "# listttt[1]"
      ],
      "metadata": {
        "id": "suvLZjzaqqQC"
      },
      "execution_count": null,
      "outputs": []
    },
    {
      "cell_type": "code",
      "source": [
        "# mails = []\n",
        "# for i in range(0,nmm):\n",
        "#   listt = listttt[1].split(' ')\n",
        "#   mail = listt[0].split('\"')\n",
        "#   for i in mail:\n",
        "#     if(i.__contains__('@')==True):\n",
        "#       mails.append(i)\n",
        "#       break\n",
        "# print(mails)"
      ],
      "metadata": {
        "id": "w7LXk14FqsJ8"
      },
      "execution_count": null,
      "outputs": []
    },
    {
      "cell_type": "code",
      "source": [
        "# !pip install selenium\n",
        "# import selenium\n",
        "# from selenium import webdriver\n",
        "# from selenium.webdriver.common.by import By\n",
        "# from selenium.webdriver.support.ui import WebDriverWait\n",
        "# from selenium.webdriver.support import expected_conditions as EC"
      ],
      "metadata": {
        "id": "chtMnywVrNxe"
      },
      "execution_count": null,
      "outputs": []
    },
    {
      "cell_type": "code",
      "source": [
        "# !pip install selenium\n",
        "# import selenium\n",
        "# from selenium import webdriver\n",
        "# from selenium.webdriver.common.by import By\n",
        "# from selenium.webdriver.support.ui import WebDriverWait\n",
        "# from selenium.webdriver.support import expected_conditions as EC\n"
      ],
      "metadata": {
        "id": "ndMErT1iruuo"
      },
      "execution_count": null,
      "outputs": []
    },
    {
      "cell_type": "code",
      "source": [
        "# chromeOptions = webdriver.ChromeOptions()\n",
        "# chromeOptions.binary_location = r\"C:\\Program Files\\Google\\Chrome\\Application\"\n",
        "# chromeDriver = \"/chromedriver.exe\"\n",
        "# driver = webdriver.Chrome(chromeDriver, options=chromeOptions)"
      ],
      "metadata": {
        "id": "lAKtlBqshhXg"
      },
      "execution_count": null,
      "outputs": []
    },
    {
      "cell_type": "code",
      "source": [
        "!pip install requests-html\n",
        "import requests\n",
        "import urllib\n",
        "import pandas as pd\n",
        "from requests_html import HTML\n",
        "from requests_html import HTMLSession"
      ],
      "metadata": {
        "id": "Yn7RKQaW-VCt",
        "colab": {
          "base_uri": "https://localhost:8080/"
        },
        "outputId": "f5b41279-4d31-4933-85aa-2ab5562c5299"
      },
      "execution_count": null,
      "outputs": [
        {
          "output_type": "stream",
          "name": "stdout",
          "text": [
            "Looking in indexes: https://pypi.org/simple, https://us-python.pkg.dev/colab-wheels/public/simple/\n",
            "Collecting requests-html\n",
            "  Downloading requests_html-0.10.0-py3-none-any.whl (13 kB)\n",
            "Requirement already satisfied: requests in /usr/local/lib/python3.10/dist-packages (from requests-html) (2.27.1)\n",
            "Collecting pyquery (from requests-html)\n",
            "  Downloading pyquery-2.0.0-py3-none-any.whl (22 kB)\n",
            "Collecting fake-useragent (from requests-html)\n",
            "  Downloading fake_useragent-1.1.3-py3-none-any.whl (50 kB)\n",
            "\u001b[2K     \u001b[90m━━━━━━━━━━━━━━━━━━━━━━━━━━━━━━━━━━━━━━━━\u001b[0m \u001b[32m50.5/50.5 kB\u001b[0m \u001b[31m1.6 MB/s\u001b[0m eta \u001b[36m0:00:00\u001b[0m\n",
            "\u001b[?25hCollecting parse (from requests-html)\n",
            "  Downloading parse-1.19.0.tar.gz (30 kB)\n",
            "  Preparing metadata (setup.py) ... \u001b[?25l\u001b[?25hdone\n",
            "Collecting bs4 (from requests-html)\n",
            "  Downloading bs4-0.0.1.tar.gz (1.1 kB)\n",
            "  Preparing metadata (setup.py) ... \u001b[?25l\u001b[?25hdone\n",
            "Collecting w3lib (from requests-html)\n",
            "  Downloading w3lib-2.1.1-py3-none-any.whl (21 kB)\n",
            "Collecting pyppeteer>=0.0.14 (from requests-html)\n",
            "  Downloading pyppeteer-1.0.2-py3-none-any.whl (83 kB)\n",
            "\u001b[2K     \u001b[90m━━━━━━━━━━━━━━━━━━━━━━━━━━━━━━━━━━━━━━━━\u001b[0m \u001b[32m83.4/83.4 kB\u001b[0m \u001b[31m6.2 MB/s\u001b[0m eta \u001b[36m0:00:00\u001b[0m\n",
            "\u001b[?25hRequirement already satisfied: appdirs<2.0.0,>=1.4.3 in /usr/local/lib/python3.10/dist-packages (from pyppeteer>=0.0.14->requests-html) (1.4.4)\n",
            "Requirement already satisfied: certifi>=2021 in /usr/local/lib/python3.10/dist-packages (from pyppeteer>=0.0.14->requests-html) (2022.12.7)\n",
            "Collecting importlib-metadata>=1.4 (from pyppeteer>=0.0.14->requests-html)\n",
            "  Downloading importlib_metadata-6.6.0-py3-none-any.whl (22 kB)\n",
            "Collecting pyee<9.0.0,>=8.1.0 (from pyppeteer>=0.0.14->requests-html)\n",
            "  Downloading pyee-8.2.2-py2.py3-none-any.whl (12 kB)\n",
            "Requirement already satisfied: tqdm<5.0.0,>=4.42.1 in /usr/local/lib/python3.10/dist-packages (from pyppeteer>=0.0.14->requests-html) (4.65.0)\n",
            "Requirement already satisfied: urllib3<2.0.0,>=1.25.8 in /usr/local/lib/python3.10/dist-packages (from pyppeteer>=0.0.14->requests-html) (1.26.15)\n",
            "Collecting websockets<11.0,>=10.0 (from pyppeteer>=0.0.14->requests-html)\n",
            "  Downloading websockets-10.4-cp310-cp310-manylinux_2_5_x86_64.manylinux1_x86_64.manylinux_2_17_x86_64.manylinux2014_x86_64.whl (106 kB)\n",
            "\u001b[2K     \u001b[90m━━━━━━━━━━━━━━━━━━━━━━━━━━━━━━━━━━━━━━━\u001b[0m \u001b[32m106.8/106.8 kB\u001b[0m \u001b[31m7.7 MB/s\u001b[0m eta \u001b[36m0:00:00\u001b[0m\n",
            "\u001b[?25hRequirement already satisfied: beautifulsoup4 in /usr/local/lib/python3.10/dist-packages (from bs4->requests-html) (4.11.2)\n",
            "Requirement already satisfied: lxml>=2.1 in /usr/local/lib/python3.10/dist-packages (from pyquery->requests-html) (4.9.2)\n",
            "Collecting cssselect>=1.2.0 (from pyquery->requests-html)\n",
            "  Downloading cssselect-1.2.0-py2.py3-none-any.whl (18 kB)\n",
            "Requirement already satisfied: charset-normalizer~=2.0.0 in /usr/local/lib/python3.10/dist-packages (from requests->requests-html) (2.0.12)\n",
            "Requirement already satisfied: idna<4,>=2.5 in /usr/local/lib/python3.10/dist-packages (from requests->requests-html) (3.4)\n",
            "Requirement already satisfied: zipp>=0.5 in /usr/local/lib/python3.10/dist-packages (from importlib-metadata>=1.4->pyppeteer>=0.0.14->requests-html) (3.15.0)\n",
            "Requirement already satisfied: soupsieve>1.2 in /usr/local/lib/python3.10/dist-packages (from beautifulsoup4->bs4->requests-html) (2.4.1)\n",
            "Building wheels for collected packages: bs4, parse\n",
            "  Building wheel for bs4 (setup.py) ... \u001b[?25l\u001b[?25hdone\n",
            "  Created wheel for bs4: filename=bs4-0.0.1-py3-none-any.whl size=1257 sha256=9f7b14e93c4f391e7f84d141eafba398a164a07d474b71a40a061db776cba4bd\n",
            "  Stored in directory: /root/.cache/pip/wheels/25/42/45/b773edc52acb16cd2db4cf1a0b47117e2f69bb4eb300ed0e70\n",
            "  Building wheel for parse (setup.py) ... \u001b[?25l\u001b[?25hdone\n",
            "  Created wheel for parse: filename=parse-1.19.0-py3-none-any.whl size=24570 sha256=778683cbb290c9bca9d6aa7265f24ee14ef2575785a1f55d66930a321fee4346\n",
            "  Stored in directory: /root/.cache/pip/wheels/70/4b/f0/eaf5a8de646d8676dc25caa01949b9f9d883b8fa2efb435bc3\n",
            "Successfully built bs4 parse\n",
            "Installing collected packages: pyee, parse, fake-useragent, websockets, w3lib, importlib-metadata, cssselect, pyquery, pyppeteer, bs4, requests-html\n",
            "Successfully installed bs4-0.0.1 cssselect-1.2.0 fake-useragent-1.1.3 importlib-metadata-6.6.0 parse-1.19.0 pyee-8.2.2 pyppeteer-1.0.2 pyquery-2.0.0 requests-html-0.10.0 w3lib-2.1.1 websockets-10.4\n"
          ]
        }
      ]
    },
    {
      "cell_type": "code",
      "source": [
        "def get_source(url):\n",
        "    \"\"\"Return the source code for the provided URL.\n",
        "\n",
        "    Args:\n",
        "        url (string): URL of the page to scrape.\n",
        "\n",
        "    Returns:\n",
        "        response (object): HTTP response object from requests_html.\n",
        "    \"\"\"\n",
        "\n",
        "    try:\n",
        "        session = HTMLSession()\n",
        "        response = session.get(url)\n",
        "        return response\n",
        "\n",
        "    except requests.exceptions.RequestException as e:\n",
        "        print(e)"
      ],
      "metadata": {
        "id": "oAjU6Qek-tBE"
      },
      "execution_count": null,
      "outputs": []
    },
    {
      "cell_type": "code",
      "source": [
        "def scrape_google(query):\n",
        "\n",
        "    query = urllib.parse.quote_plus(query)\n",
        "    response = get_source(\"https://www.google.co.uk/search?q=\" + query)\n",
        "\n",
        "    links = list(response.html.absolute_links)\n",
        "    google_domains = ('https://www.google.',\n",
        "                      'https://google.',\n",
        "                      'https://webcache.googleusercontent.',\n",
        "                      'http://webcache.googleusercontent.',\n",
        "                      'https://policies.google.',\n",
        "                      'https://support.google.',\n",
        "                      'https://maps.google.')\n",
        "\n",
        "    for url in links[:30]:\n",
        "        if url.startswith(google_domains):\n",
        "            links.remove(url)\n",
        "\n",
        "    return links"
      ],
      "metadata": {
        "id": "kZt3Zfmx-v8d"
      },
      "execution_count": null,
      "outputs": []
    },
    {
      "cell_type": "code",
      "source": [
        "list_google = scrape_google(str(title[0]+\" \"+pub[0])+\" scopus\")"
      ],
      "metadata": {
        "id": "b3Ua1IHy-5p6",
        "colab": {
          "base_uri": "https://localhost:8080/",
          "height": 165
        },
        "outputId": "9934ed83-e8c8-43c2-b5e3-361908b46b58"
      },
      "execution_count": null,
      "outputs": [
        {
          "output_type": "error",
          "ename": "NameError",
          "evalue": "ignored",
          "traceback": [
            "\u001b[0;31m---------------------------------------------------------------------------\u001b[0m",
            "\u001b[0;31mNameError\u001b[0m                                 Traceback (most recent call last)",
            "\u001b[0;32m<ipython-input-6-5a20967895d7>\u001b[0m in \u001b[0;36m<cell line: 1>\u001b[0;34m()\u001b[0m\n\u001b[0;32m----> 1\u001b[0;31m \u001b[0mlist_google\u001b[0m \u001b[0;34m=\u001b[0m \u001b[0mscrape_google\u001b[0m\u001b[0;34m(\u001b[0m\u001b[0mstr\u001b[0m\u001b[0;34m(\u001b[0m\u001b[0mtitle\u001b[0m\u001b[0;34m[\u001b[0m\u001b[0;36m0\u001b[0m\u001b[0;34m]\u001b[0m\u001b[0;34m+\u001b[0m\u001b[0;34m\" \"\u001b[0m\u001b[0;34m+\u001b[0m\u001b[0mpub\u001b[0m\u001b[0;34m[\u001b[0m\u001b[0;36m0\u001b[0m\u001b[0;34m]\u001b[0m\u001b[0;34m)\u001b[0m\u001b[0;34m+\u001b[0m\u001b[0;34m\" scopus\"\u001b[0m\u001b[0;34m)\u001b[0m\u001b[0;34m\u001b[0m\u001b[0;34m\u001b[0m\u001b[0m\n\u001b[0m",
            "\u001b[0;31mNameError\u001b[0m: name 'title' is not defined"
          ]
        }
      ]
    },
    {
      "cell_type": "code",
      "source": [
        "listapi = []\n",
        "for i in list_google:\n",
        "  if(i.__contains__('sciencedirect')):\n",
        "    listapi.append(i)"
      ],
      "metadata": {
        "colab": {
          "base_uri": "https://localhost:8080/",
          "height": 217
        },
        "id": "w7gYhteQ1gTY",
        "outputId": "51434d48-8118-4164-d181-aa3408b1899b"
      },
      "execution_count": null,
      "outputs": [
        {
          "output_type": "error",
          "ename": "NameError",
          "evalue": "ignored",
          "traceback": [
            "\u001b[0;31m---------------------------------------------------------------------------\u001b[0m",
            "\u001b[0;31mNameError\u001b[0m                                 Traceback (most recent call last)",
            "\u001b[0;32m<ipython-input-4-b5e3872241ba>\u001b[0m in \u001b[0;36m<cell line: 2>\u001b[0;34m()\u001b[0m\n\u001b[1;32m      1\u001b[0m \u001b[0mlistapi\u001b[0m \u001b[0;34m=\u001b[0m \u001b[0;34m[\u001b[0m\u001b[0;34m]\u001b[0m\u001b[0;34m\u001b[0m\u001b[0;34m\u001b[0m\u001b[0m\n\u001b[0;32m----> 2\u001b[0;31m \u001b[0;32mfor\u001b[0m \u001b[0mi\u001b[0m \u001b[0;32min\u001b[0m \u001b[0mlist_google\u001b[0m\u001b[0;34m:\u001b[0m\u001b[0;34m\u001b[0m\u001b[0;34m\u001b[0m\u001b[0m\n\u001b[0m\u001b[1;32m      3\u001b[0m   \u001b[0;32mif\u001b[0m\u001b[0;34m(\u001b[0m\u001b[0mi\u001b[0m\u001b[0;34m.\u001b[0m\u001b[0m__contains__\u001b[0m\u001b[0;34m(\u001b[0m\u001b[0;34m'sciencedirect'\u001b[0m\u001b[0;34m)\u001b[0m\u001b[0;34m)\u001b[0m\u001b[0;34m:\u001b[0m\u001b[0;34m\u001b[0m\u001b[0;34m\u001b[0m\u001b[0m\n\u001b[1;32m      4\u001b[0m     \u001b[0mlistapi\u001b[0m\u001b[0;34m.\u001b[0m\u001b[0mappend\u001b[0m\u001b[0;34m(\u001b[0m\u001b[0mi\u001b[0m\u001b[0;34m)\u001b[0m\u001b[0;34m\u001b[0m\u001b[0;34m\u001b[0m\u001b[0m\n",
            "\u001b[0;31mNameError\u001b[0m: name 'list_google' is not defined"
          ]
        }
      ]
    },
    {
      "cell_type": "code",
      "source": [
        "from bs4 import BeautifulSoup\n",
        "from urllib.request import Request, urlopen\n",
        "import re\n",
        "\n",
        "req = Request(\"https://www.geeksforgeeks.org/extract-all-the-urls-from-the-webpage-using-python/\")\n",
        "html_page = urlopen(req)\n",
        "\n",
        "soup = BeautifulSoup(html_page, \"lxml\")\n",
        "\n",
        "links = []\n",
        "for link in soup.findAll('a'):\n",
        "    links.append(link.get('href'))\n",
        "\n",
        "print(links)"
      ],
      "metadata": {
        "id": "uwPpVKlk3JMg",
        "colab": {
          "base_uri": "https://localhost:8080/"
        },
        "outputId": "dad0935d-5dc4-41f7-c422-b7ce11f0518c"
      },
      "execution_count": null,
      "outputs": [
        {
          "output_type": "stream",
          "name": "stdout",
          "text": [
            "['#main', 'https://www.geeksforgeeks.org/', 'https://practice.geeksforgeeks.org/courses/dsa-interview-preparation-classroom?utm_source=geeksforgeeks&utm_medium=main_header&utm_campaign=courses', 'https://practice.geeksforgeeks.org/courses/geeks-classes-live?utm_source=geeksforgeeks&utm_medium=main_header&utm_campaign=courses', 'https://practice.geeksforgeeks.org/courses/dsa-self-paced?utm_source=geeksforgeeks&utm_medium=main_header&utm_campaign=courses', 'https://practice.geeksforgeeks.org/courses/Data-Structures-With-Python?utm_source=geeksforgeeks&utm_medium=main_header&utm_campaign=courses', 'https://practice.geeksforgeeks.org/courses/data-structures-and-algorithms-in-javascript?utm_source=geeksforgeeks&utm_medium=main_header&utm_campaign=courses', 'https://practice.geeksforgeeks.org/courses/c-Programming-basic-to-advanced?utm_source=geeksforgeeks&utm_medium=main_header&utm_campaign=courses', 'https://practice.geeksforgeeks.org/courses/geeks-classes-live?utm_source=geeksforgeeks&utm_medium=main_header&utm_campaign=courses', 'https://practice.geeksforgeeks.org/courses/system-design-live?utm_source=geeksforgeeks&utm_medium=main_header&utm_campaign=courses', 'https://practice.geeksforgeeks.org/courses/devops-live?utm_source=geeksforgeeks&utm_medium=main_header&utm_campaign=courses', 'https://practice.geeksforgeeks.org/courses/data-structures-and-algorithms-in-javascript?utm_source=geeksforgeeks&utm_medium=main_header&utm_campaign=courses', 'https://practice.geeksforgeeks.org/courses/category/all?courseType=live&utm_source=geeksforgeeks&utm_medium=main_header&utm_campaign=courses', 'https://practice.geeksforgeeks.org/courses/complete-interview-preparation?utm_source=geeksforgeeks&utm_medium=main_header&utm_campaign=courses', 'https://practice.geeksforgeeks.org/courses/data-science-live?utm_source=geeksforgeeks&utm_medium=main_header&utm_campaign=courses', 'https://practice.geeksforgeeks.org/courses/gate-live-course/?utm_source=geeksforgeeks&utm_medium=main_header&utm_campaign=courses', 'https://practice.geeksforgeeks.org/courses/data-structures-and-algorithms-in-javascript?utm_source=geeksforgeeks&utm_medium=main_header&utm_campaign=courses', 'https://practice.geeksforgeeks.org/courses/dsa-self-paced?utm_source=geeksforgeeks&utm_medium=main_header&utm_campaign=courses', 'https://practice.geeksforgeeks.org/courses/Data-Structures-With-Python?utm_source=geeksforgeeks&utm_medium=main_header&utm_campaign=courses', 'https://practice.geeksforgeeks.org/courses/category/all?courseType=online&utm_source=geeksforgeeks&utm_medium=main_header&utm_campaign=courses', 'https://practice.geeksforgeeks.org/courses/cpp-stl?utm_source=geeksforgeeks&utm_medium=main_header&utm_campaign=courses', 'https://practice.geeksforgeeks.org/courses/Java-Foundation?utm_source=geeksforgeeks&utm_medium=main_header&utm_campaign=courses', 'https://practice.geeksforgeeks.org/courses/c-foundation?utm_source=geeksforgeeks&utm_medium=main_header&utm_campaign=courses', 'https://practice.geeksforgeeks.org/courses/full-stack-node?utm_source=geeksforgeeks&utm_medium=main_header&utm_campaign=courses', 'https://practice.geeksforgeeks.org/courses/Java-backend-live?utm_source=geeksforgeeks&utm_medium=main_header&utm_campaign=courses', 'https://practice.geeksforgeeks.org/courses/android-dev-live?utm_source=geeksforgeeks&utm_medium=main_header&utm_campaign=courses', 'https://practice.geeksforgeeks.org/courses/py-dev-django?utm_source=geeksforgeeks&utm_medium=main_header&utm_campaign=courses', 'https://practice.geeksforgeeks.org/courses/data-science-live?utm_source=geeksforgeeks&utm_medium=main_header&utm_campaign=courses', 'https://practice.geeksforgeeks.org/courses/dpa-self-paced?utm_source=geeksforgeeks&utm_medium=main_header&utm_campaign=courses', 'https://practice.geeksforgeeks.org/courses/py-dev-django?utm_source=geeksforgeeks&utm_medium=main_header&utm_campaign=courses', 'https://practice.geeksforgeeks.org/courses/android-dev-live?utm_source=geeksforgeeks&utm_medium=main_header&utm_campaign=courses', 'https://practice.geeksforgeeks.org/courses/devops-live?utm_source=geeksforgeeks&utm_medium=main_header&utm_campaign=courses', 'https://practice.geeksforgeeks.org/courses/CS-12?utm_source=geeksforgeeks&utm_medium=main_header&utm_campaign=courses', 'https://practice.geeksforgeeks.org/courses/school-guide-course?utm_source=geeksforgeeks&utm_medium=main_header&utm_campaign=courses', 'https://practice.geeksforgeeks.org/courses?utm_source=geeksforgeeks&utm_medium=main_header&utm_campaign=courses', 'https://www.geeksforgeeks.org/learn-data-structures-and-algorithms-dsa-tutorial/', 'https://www.geeksforgeeks.org/array-data-structure', 'https://www.geeksforgeeks.org/matrix', 'https://www.geeksforgeeks.org/string-data-structure', 'https://www.geeksforgeeks.org/data-structures/linked-list', 'https://www.geeksforgeeks.org/stack-data-structure', 'https://www.geeksforgeeks.org/queue-data-structure', 'https://www.geeksforgeeks.org/generic-treesn-array-trees/', 'https://www.geeksforgeeks.org/binary-tree-data-structure/', 'https://www.geeksforgeeks.org/binary-search-tree-data-structure', 'https://www.geeksforgeeks.org/introduction-to-avl-tree/', 'https://www.geeksforgeeks.org/introduction-of-b-tree-2/', 'https://www.geeksforgeeks.org/introduction-of-b-tree/', 'https://www.geeksforgeeks.org/introduction-to-red-black-tree/', 'https://www.geeksforgeeks.org/introduction-to-tree-data-structure-and-algorithm-tutorials/', 'https://www.geeksforgeeks.org/heap-data-structure', 'https://www.geeksforgeeks.org/hashing-data-structure/', 'https://www.geeksforgeeks.org/graph-data-structure-and-algorithms/', 'https://www.geeksforgeeks.org/advanced-data-structures', 'https://www.geeksforgeeks.org/data-structures', 'https://www.geeksforgeeks.org/design-and-analysis-of-algorithms', 'https://www.geeksforgeeks.org/analysis-of-algorithms-set-1-asymptotic-analysis', 'https://www.geeksforgeeks.org/analysis-of-algorithms-set-2-asymptotic-analysis', 'https://www.geeksforgeeks.org/analysis-of-algorithms-set-3asymptotic-notations', 'https://www.geeksforgeeks.org/analysis-of-algorithems-little-o-and-little-omega-notations', 'https://www.geeksforgeeks.org/lower-and-upper-bound-theory', 'https://www.geeksforgeeks.org/analysis-of-algorithms-set-4-analysis-of-loops', 'https://www.geeksforgeeks.org/analysis-algorithm-set-4-master-method-solving-recurrences', 'https://www.geeksforgeeks.org/analysis-algorithm-set-5-amortized-analysis-introduction', 'https://www.geeksforgeeks.org/g-fact-86/', 'https://www.geeksforgeeks.org/pseudo-polynomial-in-algorithms', 'https://www.geeksforgeeks.org/polynomial-time-approximation-scheme', 'https://www.geeksforgeeks.org/a-time-complexity-question', 'https://www.geeksforgeeks.org/linear-search/', 'https://www.geeksforgeeks.org/binary-search/', 'https://www.geeksforgeeks.org/selection-sort/', 'https://www.geeksforgeeks.org/bubble-sort/', 'https://www.geeksforgeeks.org/insertion-sort/', 'https://www.geeksforgeeks.org/merge-sort/', 'https://www.geeksforgeeks.org/quick-sort/', 'https://www.geeksforgeeks.org/heap-sort/', 'https://www.geeksforgeeks.org/counting-sort/', 'https://www.geeksforgeeks.org/radix-sort/', 'https://www.geeksforgeeks.org/bucket-sort-2/', 'https://www.geeksforgeeks.org/greedy-algorithms', 'https://www.geeksforgeeks.org/dynamic-programming', 'https://www.geeksforgeeks.org/graph-data-structure-and-algorithms', 'https://www.geeksforgeeks.org/algorithms-gq/pattern-searching/', 'https://www.geeksforgeeks.org/introduction-to-recursion-data-structure-and-algorithm-tutorials/', 'https://www.geeksforgeeks.org/backtracking-algorithms/', 'https://www.geeksforgeeks.org/divide-and-conquer', 'https://www.geeksforgeeks.org/geometric-algorithms', 'https://www.geeksforgeeks.org/mathematical-algorithms', 'https://www.geeksforgeeks.org/bitwise-algorithms', 'https://www.geeksforgeeks.org/randomized-algorithms', 'https://www.geeksforgeeks.org/branch-and-bound-algorithm/', 'https://www.geeksforgeeks.org/fundamentals-of-algorithms', 'https://www.geeksforgeeks.org/what-is-system-design-learn-system-design/', 'https://www.geeksforgeeks.org/analysis-of-monolithic-and-distributed-systems-learn-system-design/', 'https://www.geeksforgeeks.org/what-is-scalability-and-how-to-achieve-it-learn-system-design/', 'https://www.geeksforgeeks.org/complete-reference-to-databases-in-designing-systems/', 'https://www.geeksforgeeks.org/what-is-high-level-design-learn-system-design/', 'https://www.geeksforgeeks.org/what-is-low-level-design-or-lld-learn-system-design/', 'https://www.geeksforgeeks.org/system-design-tutorial/', 'https://www.geeksforgeeks.org/design-patterns-set-1-introduction/', 'https://www.geeksforgeeks.org/observer-pattern-set-1-introduction/', 'https://www.geeksforgeeks.org/singleton-design-pattern/', 'https://www.geeksforgeeks.org/decorator-pattern/', 'https://www.geeksforgeeks.org/strategy-pattern-set-1/', 'https://www.geeksforgeeks.org/adapter-pattern/', 'https://www.geeksforgeeks.org/command-pattern/', 'https://www.geeksforgeeks.org/iterator-pattern/', 'https://www.geeksforgeeks.org/prototype-design-pattern/', 'https://www.geeksforgeeks.org/software-design-patterns/', 'https://www.geeksforgeeks.org/company-preparation', 'https://www.geeksforgeeks.org/interview-preparation-for-software-developer/', 'https://practice.geeksforgeeks.org/company-tags/', 'https://www.geeksforgeeks.org/company-interview-corner/', 'https://www.geeksforgeeks.org/experienced-interview-experiences-company-wise', 'https://www.geeksforgeeks.org/internship-interview-experiences-company-wise', 'https://www.geeksforgeeks.org/competitive-programming-a-complete-guide', 'https://www.geeksforgeeks.org/quiz-corner-gq/', 'https://www.geeksforgeeks.org/aptitude-questions-and-answers/', 'https://www.geeksforgeeks.org/c-programming-language/', 'https://www.geeksforgeeks.org/c-plus-plus/', 'https://www.geeksforgeeks.org/java/', 'https://www.geeksforgeeks.org/python-programming-language/', 'https://www.geeksforgeeks.org/javascript/', 'https://www.geeksforgeeks.org/php-tutorials/', 'https://www.geeksforgeeks.org/csharp-programming-language/', 'https://www.geeksforgeeks.org/sql-tutorial/', 'https://www.geeksforgeeks.org/scala-programming-language/', 'https://www.geeksforgeeks.org/perl-programming-language/', 'https://www.geeksforgeeks.org/golang/', 'https://www.geeksforgeeks.org/kotlin-programming-language/', 'https://www.geeksforgeeks.org/html-tutorials/', 'https://www.geeksforgeeks.org/css-tutorials/', 'https://www.geeksforgeeks.org/javascript-tutorial/', 'https://www.geeksforgeeks.org/php-tutorials/', 'https://www.geeksforgeeks.org/bootstrap/', 'https://www.geeksforgeeks.org/tailwind-css/', 'https://www.geeksforgeeks.org/foundation/', 'https://www.geeksforgeeks.org/materialize-css/', 'https://www.geeksforgeeks.org/bulma/', 'https://www.geeksforgeeks.org/pure-css/', 'https://www.geeksforgeeks.org/primer-css/', 'https://www.geeksforgeeks.org/blaze-ui/', 'https://www.geeksforgeeks.org/semantic-ui', 'https://www.geeksforgeeks.org/angularjs/', 'https://www.geeksforgeeks.org/angular-primeng/', 'https://www.geeksforgeeks.org/angular-ngx-bootstrap', 'https://www.geeksforgeeks.org/nodejs', 'https://www.geeksforgeeks.org/express-js', 'https://www.geeksforgeeks.org/jquery-tutorials/', 'https://www.geeksforgeeks.org/jquery-mobile/', 'https://www.geeksforgeeks.org/jquery-ui/', 'https://www.geeksforgeeks.org/jquery-easyui', 'https://www.geeksforgeeks.org/jqwidgets/', 'https://www.geeksforgeeks.org/reactjs-tutorials', 'https://www.geeksforgeeks.org/react-bootstrap/', 'https://www.geeksforgeeks.org/react-rebass/', 'https://www.geeksforgeeks.org/react-desktop/', 'https://www.geeksforgeeks.org/react-suite/', 'https://www.geeksforgeeks.org/reactjs-evergreen/', 'https://www.geeksforgeeks.org/reactjs-reactstrap/', 'https://www.geeksforgeeks.org/ant-design/', 'https://www.geeksforgeeks.org/blueprintjs/', 'https://www.geeksforgeeks.org/p5-js/', 'https://www.geeksforgeeks.org/lodash/', 'https://www.geeksforgeeks.org/tensorflow-js/', 'https://www.geeksforgeeks.org/moment-js/', 'https://www.geeksforgeeks.org/collect-js/', 'https://www.geeksforgeeks.org/wordpress/', 'https://www.geeksforgeeks.org/json/', 'https://www.geeksforgeeks.org/english-grammar/', 'https://www.geeksforgeeks.org/school-learning/', 'https://www.geeksforgeeks.org/number-system-and-arithmetic/', 'https://www.geeksforgeeks.org/algebra/', 'https://www.geeksforgeeks.org/trigonometry/', 'https://www.geeksforgeeks.org/statistics/', 'https://www.geeksforgeeks.org/probability-in-maths/', 'https://www.geeksforgeeks.org/geometry/', 'https://www.geeksforgeeks.org/mensuration/', 'https://www.geeksforgeeks.org/calculus/', 'https://www.geeksforgeeks.org/cbse-class-8-syllabus/', 'https://www.geeksforgeeks.org/cbse-class-9-syllabus/', 'https://www.geeksforgeeks.org/cbse-class-10-syllabus/', 'https://www.geeksforgeeks.org/cbse-class-11-syllabus/', 'https://www.geeksforgeeks.org/cbse-class-12-syllabus/', 'https://www.geeksforgeeks.org/cbse-class-8-maths-notes/', 'https://www.geeksforgeeks.org/cbse-class-9-maths-notes/', 'https://www.geeksforgeeks.org/cbse-class-10-maths-notes/', 'https://www.geeksforgeeks.org/cbse-class-11-maths-notes/', 'https://www.geeksforgeeks.org/cbse-class-12-maths-notes/', 'https://www.geeksforgeeks.org/cbse-class-8-maths-formulas/', 'https://www.geeksforgeeks.org/cbse-class-9-maths-formulas/', 'https://www.geeksforgeeks.org/cbse-class-10-maths-formulas/', 'https://www.geeksforgeeks.org/cbse-class-11-maths-formulas/', 'https://www.geeksforgeeks.org/ncert-solutions-for-class-8-maths/', 'https://www.geeksforgeeks.org/ncert-solutions-for-class-9-maths/', 'https://www.geeksforgeeks.org/ncert-solutions-for-class-10-maths/', 'https://www.geeksforgeeks.org/ncert-solutions-for-class-11-maths/', 'https://www.geeksforgeeks.org/ncert-solutions-for-class-12-maths', 'https://www.geeksforgeeks.org/rd-sharma-class-8-solutions-for-maths', 'https://www.geeksforgeeks.org/rd-sharma-class-9-solutions', 'https://www.geeksforgeeks.org/rd-sharma-class-10-solutions', 'https://www.geeksforgeeks.org/rd-sharma-class-11-solutions-for-maths', 'https://www.geeksforgeeks.org/rd-sharma-class-12-solutions-for-maths', 'https://www.geeksforgeeks.org/class-8-science-notes/', 'https://www.geeksforgeeks.org/class-9-science-revision-notes/', 'https://www.geeksforgeeks.org/class-10-science-notes/', 'https://www.geeksforgeeks.org/cbse-physics-class-8-notes/', 'https://www.geeksforgeeks.org/cbse-class-9-physics-notes/', 'https://www.geeksforgeeks.org/cbse-notes-for-class-10-physics/', 'https://www.geeksforgeeks.org/cbse-class-11-physics-notes/', 'https://www.geeksforgeeks.org/cbse-notes-class-12-physics/', 'https://www.geeksforgeeks.org/cbse-class-8-chemistry-notes/', 'https://www.geeksforgeeks.org/cbse-class-9-chemistry-notes/', 'https://www.geeksforgeeks.org/cbse-class-10-chemistry-notes/', 'https://www.geeksforgeeks.org/cbse-notes-class-11-chemistry/', 'https://www.geeksforgeeks.org/cbse-notes-class-12-chemistry/', 'https://www.geeksforgeeks.org/cbse-class-8-biology-syllabus/', 'https://www.geeksforgeeks.org/class-9-biology-syllabus/', 'https://www.geeksforgeeks.org/class-10-biology-syllabus/', 'https://www.geeksforgeeks.org/cbse-class-11-biology-notes/', 'https://www.geeksforgeeks.org/cbse-syllabus-for-class-7-social-science/', 'https://www.geeksforgeeks.org/cbse-syllabus-for-class-8-social-science/', 'https://www.geeksforgeeks.org/cbse-syllabus-for-class-9-social-science/', 'https://www.geeksforgeeks.org/cbse-class-10-social-science-syllabus/', 'https://www.geeksforgeeks.org/class-7-social-science-notes', 'https://www.geeksforgeeks.org/cbse-class-8-social-science-civics-notes/', 'https://www.geeksforgeeks.org/cbse-class-9-social-science-revision-notes/', 'https://www.geeksforgeeks.org/cbse-class-10-social-science-notes/', 'https://www.geeksforgeeks.org/class-7-social-science-history/', 'https://www.geeksforgeeks.org/cbse-class-8-social-science-history-notes/', 'https://www.geeksforgeeks.org/class-9-social-science-history-notes/', 'https://www.geeksforgeeks.org/cbse-class-7-geography-notes/', 'https://www.geeksforgeeks.org/class-8-social-science-geography/', 'https://www.geeksforgeeks.org/class-9-social-science-geography-notes/', 'https://www.geeksforgeeks.org/cbse-class-7-civics-notes/', 'https://www.geeksforgeeks.org/cbse-class-8-social-science-civics-notes/', 'https://www.geeksforgeeks.org/cbse-class-11-business-studies-notes/', 'https://www.geeksforgeeks.org/cbse-class-11-microeconomics-notes/', 'https://www.geeksforgeeks.org/cbse-class-11-statistics-for-economics-notes/', 'https://www.geeksforgeeks.org/cbse-class-12-business-studies-notes/', 'https://www.geeksforgeeks.org/cbse-class-12-accountancy-notes/', 'https://www.geeksforgeeks.org/cbse-class-12-macroeconomics-notes/', 'https://www.geeksforgeeks.org/cbse-class-12-maths-previous-year-paper-2022/', 'https://www.geeksforgeeks.org/cbse-previous-year-question-papers-class-12-physics/', 'https://www.geeksforgeeks.org/cbse-previous-year-question-papers-class-12-history/', 'https://www.geeksforgeeks.org/cbse-previous-year-question-paper-class-12-geography/', 'https://www.geeksforgeeks.org/cbse-previous-year-question-papers-class-12-political-science/', 'https://www.geeksforgeeks.org/cbse-previous-year-question-papers-class-12-economics/', 'https://www.geeksforgeeks.org/machine-learning/', 'https://www.geeksforgeeks.org/data-science-tutorial/', 'https://www.geeksforgeeks.org/git-tutorial/', 'https://www.geeksforgeeks.org/aws-tutorial/', 'https://www.geeksforgeeks.org/docker-tutorial/', 'https://www.geeksforgeeks.org/kubernetes-tutorial/', 'https://www.geeksforgeeks.org/microsoft-azure/', 'https://www.geeksforgeeks.org/google-cloud-platform-tutorial/', 'https://www.geeksforgeeks.org/engineering-mathematics-tutorials/', 'https://www.geeksforgeeks.org/operating-systems/', 'https://www.geeksforgeeks.org/dbms/', 'https://www.geeksforgeeks.org/computer-network-tutorials/', 'https://www.geeksforgeeks.org/computer-organization-and-architecture-tutorials/', 'https://www.geeksforgeeks.org/theory-of-computation-automata-tutorials/', 'https://www.geeksforgeeks.org/compiler-design-tutorials/', 'https://www.geeksforgeeks.org/digital-electronics-logic-design-tutorials/#blg/', 'https://www.geeksforgeeks.org/software-engineering/', 'https://practice.geeksforgeeks.org/courses/gate-live-course?utm_source=geeksforgeeks&utm_medium=main_header&utm_campaign=courses', 'https://www.geeksforgeeks.org/gate-cs-notes-gq/', 'https://www.geeksforgeeks.org/lmns-gq/', 'https://www.geeksforgeeks.org/gate-corner-2-gq/', 'https://www.geeksforgeeks.org/original-gate-previous-year-question-papers-cse-and-it-gq/', 'https://www.geeksforgeeks.org/gate-cse-syllabus-2023/', 'https://www.geeksforgeeks.org/important-topics-prepare-gate-2020-computer-science-paper/', 'https://www.geeksforgeeks.org/gate-2023-exam-dates/', 'https://www.geeksforgeeks.org/isro-original-papers-official-keys/', 'https://www.geeksforgeeks.org/isro-cs-preparation/', 'https://www.geeksforgeeks.org/isro-cse-syllabus-scientistengineer-exam-2018/', 'https://www.geeksforgeeks.org/ugc-net-cs-notes-according-to-syllabus-of-paper-ii/', 'https://www.geeksforgeeks.org/ugc-net-cs-notes-according-to-syllabus-of-paper-iii-core-group/', 'https://www.geeksforgeeks.org/ugc-net-cs-preparation/', 'https://www.geeksforgeeks.org/html-cheat-sheet-a-basic-guide-to-html/', 'https://www.geeksforgeeks.org/css-cheat-sheet-a-basic-guide-to-css/', 'https://www.geeksforgeeks.org/bootstrap-cheatsheet-a-basic-guide-to-bootstrap/', 'https://www.geeksforgeeks.org/javascript-cheat-sheet-a-basic-guide-to-javascript/', 'https://www.geeksforgeeks.org/jquery-cheat-sheet-a-basic-guide-to-jquery/', 'https://www.geeksforgeeks.org/angular-cheat-sheet-a-basic-guide-to-angular/', 'https://www.geeksforgeeks.org/facebookmeta-sde-sheet-a-guide-for-facebook-interview-preparation/', 'https://www.geeksforgeeks.org/amazon-sde-sheet-a-guide-for-amazon-sde-interview-preparation/', 'https://www.geeksforgeeks.org/apple-sde-sheet-a-guide-for-apple-interview-preparation/', 'https://www.geeksforgeeks.org/netflix-sde-sheet-interview-questions-and-answers/', 'https://www.geeksforgeeks.org/google-sde-sheet-a-guide-for-google-interview-preparation/', 'https://www.geeksforgeeks.org/wipro-coding-sheet-interview-preparation/', 'https://www.geeksforgeeks.org/infosys-coding-sheet-interview-preparation/', 'https://www.geeksforgeeks.org/tcs-nqt-coding-sheet-exam-preparation/', 'https://www.geeksforgeeks.org/cognizant-coding-sheet-interview-preparation/', 'https://www.geeksforgeeks.org/hcl-coding-sheet-interview-preparation/', 'https://www.geeksforgeeks.org/sde-sheet-a-complete-guide-for-sde-preparation/', 'https://www.geeksforgeeks.org/must-do-coding-questions-for-companies-like-amazon-microsoft-adobe/', 'https://www.geeksforgeeks.org/dsa-sheet-by-love-babbar/', 'https://www.geeksforgeeks.org/must-do-questions-for-companies-like-tcs-cts-hcl-ibm/', 'https://www.geeksforgeeks.org/must-do-coding-questions-for-product-based-companies/', 'https://www.geeksforgeeks.org/must-coding-questions-company-wise/', 'https://www.geeksforgeeks.org/top-50-array-coding-problems-for-interviews/', 'https://www.geeksforgeeks.org/top-50-string-coding-problems-for-interviews/', 'https://www.geeksforgeeks.org/top-50-tree-coding-problems-for-interviews/', 'https://www.geeksforgeeks.org/top-50-graph-coding-problems-for-interviews/', 'https://www.geeksforgeeks.org/top-50-dynamic-programming-coding-problems-for-interviews/', 'https://www.geeksforgeeks.org/important-topics-of-geography-for-upsc/', 'https://www.geeksforgeeks.org/important-topics-of-history-for-upsc/', 'https://www.geeksforgeeks.org/important-topics-of-science-and-technology-for-upsc/', 'https://www.geeksforgeeks.org/important-topics-in-ethics-for-upsc/', 'https://www.geeksforgeeks.org/important-topics-in-polity-for-upsc/', 'https://www.geeksforgeeks.org/important-topics-in-economics-for-upsc/', 'https://www.geeksforgeeks.org/upsc-previous-year-papers/', 'https://www.geeksforgeeks.org/campus-ambassador-program-by-geeksforgeeks/', 'https://www.geeksforgeeks.org/school-ambassador/', 'https://www.geeksforgeeks.org/computer-science-projects/', 'https://www.geeksforgeeks.org/geek-of-the-month/', 'https://www.geeksforgeeks.org/campus-geek-of-the-month/', 'https://www.geeksforgeeks.org/placements-gq/', 'https://www.geeksforgeeks.org/competitive-programming-a-complete-guide/', 'https://www.geeksforgeeks.org/testimonials/', 'https://www.geeksforgeeks.org/geeksforgeeks-student-chapter/', 'https://www.geeksforgeeks.org/category/geek-on-the-top/', 'https://www.geeksforgeeks.org/internship/', 'https://www.geeksforgeeks.org/careers/', 'https://www.geeksforgeeks.org/ssc-cgl-syllabus-2022/', 'https://www.geeksforgeeks.org/ssc-cgl-general-studies-syllabus/', 'https://www.geeksforgeeks.org/ssc-cgl-english-syllabus/', 'https://www.geeksforgeeks.org/ssc-reasoning-syllabus/', 'https://www.geeksforgeeks.org/ssc-cgl-practice-papers/', 'https://www.geeksforgeeks.org/ssc-cgl-previous-year-papers/', 'https://www.geeksforgeeks.org/sbi-clerk-syllabus-2022/', 'https://www.geeksforgeeks.org/sbi-clerk-general-awareness-syllabus/', 'https://www.geeksforgeeks.org/sbi-clerk-english-syllabus-2022/', 'https://www.geeksforgeeks.org/sbi-clerk-quantitative-aptitude-syllabus-2022/', 'https://www.geeksforgeeks.org/sbi-clerk-reasoning-ability-syllabus/', 'https://www.geeksforgeeks.org/sbi-clerk-practice-papers/', 'https://www.geeksforgeeks.org/sbi-po-syllabus-2022/', 'https://www.geeksforgeeks.org/sbi-po-general-awareness-2022/', 'https://www.geeksforgeeks.org/sbi-po-english-syllabus/', 'https://www.geeksforgeeks.org/sbi-po-quantitative-aptitude-2022/', 'https://www.geeksforgeeks.org/sbi-po-reasoning-syllabus/', 'https://www.geeksforgeeks.org/sbi-po-previous-year-papers/', 'https://www.geeksforgeeks.org/sbi-po-practice-papers/', 'https://www.geeksforgeeks.org/syllabus-of-ibps-po-2022/', 'https://www.geeksforgeeks.org/ibps-po-english-syllabus/', 'https://www.geeksforgeeks.org/reasoning-syllabus-for-ibps-po/', 'https://www.geeksforgeeks.org/ibps-po-previous-year-papers/', 'https://www.geeksforgeeks.org/ibps-po-mock-question-paper-2022/', 'https://www.geeksforgeeks.org/general-awareness-for-ibps-po-bank-exam/', 'https://www.geeksforgeeks.org/detailed-syllabus-of-ibps-clerk', 'https://www.geeksforgeeks.org/english-syllabus-of-ibps-clerk-exam/', 'https://www.geeksforgeeks.org/ibps-clerk-previous-year-question-papers/', 'https://www.geeksforgeeks.org/job-a-thon/', 'https://practice.geeksforgeeks.org/events/rec/job-a-thon/?utm_source=geeksforgeeks&utm_medium=main_header&utm_campaign=jobs', 'https://www.geeksforgeeks.org/jobs/', 'https://practice.geeksforgeeks.org/explore?page=1&sortBy=submissions&utm_source=geeksforgeeks&utm_medium=main_header&utm_campaign=practice_header', 'https://practice.geeksforgeeks.org/problem-of-the-day?utm_source=geeksforgeeks&utm_medium=main_header&utm_campaign=practice_header', 'https://practice.geeksforgeeks.org/explore?page=1&curated[]=1&sortBy=submissions&curated_names[]=SDE%20Sheet?utm_source=geeksforgeeks&utm_medium=main_header&utm_campaign=practice_header', 'https://practice.geeksforgeeks.org/explore?page=1&category[]=Arrays&sortBy=submissions/?utm_source=geeksforgeeks&utm_medium=main_header&utm_campaign=practice_header', 'https://practice.geeksforgeeks.org/explore?page=1&category[]=Strings&sortBy=submissions/?utm_source=geeksforgeeks&utm_medium=main_header&utm_campaign=practice_header', 'https://practice.geeksforgeeks.org/explore?page=1&category[]=Tree&sortBy=submissions/?utm_source=geeksforgeeks&utm_medium=main_header&utm_campaign=practice_header', 'https://practice.geeksforgeeks.org/explore?page=1&category[]=Graph&sortBy=submissions/?utm_source=geeksforgeeks&utm_medium=main_header&utm_campaign=practice_header', 'https://practice.geeksforgeeks.org/explore?page=1&category[]=Dynamic%20Programming&sortBy=submissions/??utm_source=geeksforgeeks&utm_medium=main_header&utm_campaign=practice_header', 'https://practice.geeksforgeeks.org/events/rec/interview-series?utm_source=geeksforgeeks&utm_medium=main_header&utm_campaign=contests', 'https://practice.geeksforgeeks.org/events/rec/job-a-thon?utm_source=geeksforgeeks&utm_medium=main_header&utm_campaign=contests', 'https://practice.geeksforgeeks.org/events/rec/step-up-coding-school?utm_source=geeksforgeeks&utm_medium=main_header&utm_campaign=contests', 'https://practice.geeksforgeeks.org/events?utm_source=geeksforgeeks&utm_medium=main_header&utm_campaign=contests', 'https://www.geeksforgeeks.org/?ref=ghm', 'https://www.geeksforgeeks.org/videos/watchlist/?ref=ghm', 'https://practice.geeksforgeeks.org/courses?utm_source=geeksforgeeks&utm_medium=main_header&utm_campaign=courses', 'https://www.geeksforgeeks.org/category/guestblogs/?ref=ghm', 'https://www.geeksforgeeks.org/puzzles/?ref=ghm', 'https://www.geeksforgeeks.org/geeks-classes-geeksforgeeks/?ref=ghm', 'https://www.geeksforgeeks.org/python-data-types/', 'https://www.geeksforgeeks.org/python-if-else/', 'https://www.geeksforgeeks.org/python-functions/', 'https://www.geeksforgeeks.org/python-lists/', 'https://www.geeksforgeeks.org/python-string/', 'https://www.geeksforgeeks.org/python-sets/', 'https://www.geeksforgeeks.org/python-tuples/', 'https://www.geeksforgeeks.org/python-dictionary/', 'https://www.geeksforgeeks.org/python-oops-concepts/', 'https://www.geeksforgeeks.org/python-exception-handling/', 'https://www.geeksforgeeks.org/python-programming-examples/', 'https://www.geeksforgeeks.org/python-projects-beginner-to-advanced/', 'https://www.geeksforgeeks.org/python-interview-questions/', 'https://www.geeksforgeeks.org/python-multiple-choice-questions/)', 'https://www.geeksforgeeks.org/numpy-tutorial/', 'https://www.geeksforgeeks.org/pandas-tutorial/', 'https://www.geeksforgeeks.org/python-database-tutorial/', 'https://www.geeksforgeeks.org/data-science-tutorial/', 'https://www.geeksforgeeks.org/machine-learning-with-python/', 'https://www.geeksforgeeks.org/django-tutorial/', 'https://www.geeksforgeeks.org/flask-tutorial/', 'https://www.geeksforgeeks.org/r-tutorial', 'https://geeksforgeeksapp.page.link/?link=https://www.geeksforgeeks.org/extract-all-the-urls-from-the-webpage-using-python/?type%3Darticle%26id%3D495624&apn=free.programming.programming&isi=1641848816&ibi=org.geeksforgeeks.GeeksforGeeksDev&efr=1', '', 'https://write.geeksforgeeks.org/posts-new?interview-experience&ref=GLBIE', 'https://write.geeksforgeeks.org/posts-new?cid=82536bdb-84e6-4661-87c3-e77c3ac04ede', 'https://www.geeksforgeeks.org/interview-preparation-for-software-developer/', 'https://www.geeksforgeeks.org/must-coding-questions-company-wise/', 'https://www.geeksforgeeks.org/must-do-coding-questions-for-companies-like-amazon-microsoft-adobe/', 'https://practice.geeksforgeeks.org/company-tags', 'https://www.geeksforgeeks.org/company-preparation/', 'https://www.geeksforgeeks.org/category/competitive-programming/', 'https://www.geeksforgeeks.org/software-design-patterns/', 'https://www.geeksforgeeks.org/company-interview-corner/', 'https://www.geeksforgeeks.org/experienced-interview-experiences-company-wise/', 'https://www.geeksforgeeks.org/internship-interview-experiences-company-wise/', 'https://practice.geeksforgeeks.org/problem-of-the-day', 'https://practice.geeksforgeeks.org/topic-tags/?ref=home', 'https://practice.geeksforgeeks.org/School/0/0/?ref=home', 'https://practice.geeksforgeeks.org/Basic/0/0/?ref=home', 'https://practice.geeksforgeeks.org/Easy/0/0/?ref=home', 'https://practice.geeksforgeeks.org/Medium/0/0/?ref=home', 'https://practice.geeksforgeeks.org/Hard/0/0/?ref=home', 'https://practice.geeksforgeeks.org/ranking.php?ref=home', 'https://practice.geeksforgeeks.org/explore/?company%5B%5D=Amazon&problemType=functional&page=1&sortBy=submissions', 'https://www.geeksforgeeks.org/array-data-structure/', 'https://www.geeksforgeeks.org/data-structures/linked-list/', 'https://www.geeksforgeeks.org/stack-data-structure/', 'https://www.geeksforgeeks.org/queue-data-structure/', 'https://www.geeksforgeeks.org/binary-tree-data-structure/', 'https://www.geeksforgeeks.org/binary-search-tree-data-structure/', 'https://www.geeksforgeeks.org/heap-data-structure/', 'https://www.geeksforgeeks.org/hashing-data-structure/', 'https://www.geeksforgeeks.org/graph-data-structure-and-algorithms/', 'https://www.geeksforgeeks.org/advanced-data-structures/', 'https://www.geeksforgeeks.org/matrix/', 'https://www.geeksforgeeks.org/string-data-structure/', 'https://www.geeksforgeeks.org/data-structures/', 'https://www.geeksforgeeks.org/fundamentals-of-algorithms/#AnalysisofAlgorithms', 'https://www.geeksforgeeks.org/searching-algorithms/', 'https://www.geeksforgeeks.org/sorting-algorithms/', 'https://www.geeksforgeeks.org/algorithms-gq/pattern-searching/', 'https://www.geeksforgeeks.org/geometric-algorithms/', 'https://www.geeksforgeeks.org/mathematical-algorithms/', 'https://www.geeksforgeeks.org/randomized-algorithms/', 'https://www.geeksforgeeks.org/greedy-algorithms/', 'https://www.geeksforgeeks.org/dynamic-programming/', 'https://www.geeksforgeeks.org/divide-and-conquer/', 'https://www.geeksforgeeks.org/backtracking-algorithms/', 'https://www.geeksforgeeks.org/branch-and-bound-algorithm/', 'https://www.geeksforgeeks.org/fundamentals-of-algorithms/', 'https://www.geeksforgeeks.org/c-programming-language/', 'https://www.geeksforgeeks.org/c-plus-plus/', 'https://www.geeksforgeeks.org/java/', 'https://www.geeksforgeeks.org/python-programming-language/', 'https://www.geeksforgeeks.org/csharp-programming-language/', 'https://www.geeksforgeeks.org/golang/', 'https://www.geeksforgeeks.org/sql-tutorial/', 'https://www.geeksforgeeks.org/php/', 'https://www.geeksforgeeks.org/scala-programming-language/', 'https://www.geeksforgeeks.org/perl-programming-language/', 'https://www.geeksforgeeks.org/kotlin-programming-language/', 'https://www.geeksforgeeks.org/html/', 'https://www.geeksforgeeks.org/css/', 'https://www.geeksforgeeks.org/javascript/', 'https://www.geeksforgeeks.org/jquery/', 'https://www.geeksforgeeks.org/php-tutorials/', 'https://www.geeksforgeeks.org/bootstrap/', 'https://www.geeksforgeeks.org/angularjs/', 'https://www.geeksforgeeks.org/reactjs-tutorials/', 'https://www.geeksforgeeks.org/nodejs/', 'https://www.geeksforgeeks.org/p5-js/', 'https://www.geeksforgeeks.org/lodash/', 'https://www.geeksforgeeks.org/jqwidgets/', 'https://www.geeksforgeeks.org/jquery-ui/', 'https://www.geeksforgeeks.org/wordpress/', 'https://www.geeksforgeeks.org/tailwind-css/', 'https://www.geeksforgeeks.org/json/', 'https://www.geeksforgeeks.org/jquery-mobile/', 'https://www.geeksforgeeks.org/collect-js/', 'https://www.geeksforgeeks.org/pure-css/', 'https://www.geeksforgeeks.org/bulma/', 'https://www.geeksforgeeks.org/foundation/', 'https://www.geeksforgeeks.org/materialize-css/', 'https://www.geeksforgeeks.org/semantic-ui/', 'https://www.geeksforgeeks.org/typescript/', 'https://www.geeksforgeeks.org/svg/', 'https://www.geeksforgeeks.org/express-js/', 'https://www.geeksforgeeks.org/ant-design/', 'https://www.geeksforgeeks.org/react-desktop/', 'https://www.geeksforgeeks.org/tensorflow-js/', 'https://www.geeksforgeeks.org/operating-systems/', 'https://www.geeksforgeeks.org/dbms/', 'https://www.geeksforgeeks.org/computer-network-tutorials/', 'https://www.geeksforgeeks.org/computer-organization-and-architecture-tutorials/', 'https://www.geeksforgeeks.org/theory-of-computation-automata-tutorials/', 'https://www.geeksforgeeks.org/compiler-design-tutorials/', 'https://www.geeksforgeeks.org/digital-electronics-logic-design-tutorials/', 'https://www.geeksforgeeks.org/software-engineering/', 'https://www.geeksforgeeks.org/engineering-mathematics-tutorials/', 'https://practice.geeksforgeeks.org/courses/data-science-live', 'https://www.geeksforgeeks.org/data-science-tutorial/', 'https://www.geeksforgeeks.org/machine-learning/', 'https://www.geeksforgeeks.org/deep-learning-tutorial/', 'https://www.geeksforgeeks.org/natural-language-processing-nlp-tutorial/', 'https://www.geeksforgeeks.org/machine-learning-project-with-source-code/', 'https://www.geeksforgeeks.org/data-analysis-tutorial/', 'https://www.geeksforgeeks.org/python-programming-language/', 'https://www.geeksforgeeks.org/django-tutorial/', 'https://www.geeksforgeeks.org/pandas-tutorial/', 'https://www.geeksforgeeks.org/kivy-tutorial/', 'https://www.geeksforgeeks.org/python-tkinter-tutorial/', 'https://www.geeksforgeeks.org/opencv-python-tutorial/', 'https://www.geeksforgeeks.org/selenium-python-tutorial/', 'https://www.geeksforgeeks.org/gate-cs-notes-gq/', 'https://www.geeksforgeeks.org/gate-corner-2-gq/', 'https://www.geeksforgeeks.org/original-gate-previous-year-question-papers-cse-and-it-gq/', 'https://www.geeksforgeeks.org/lmns-gq/', 'https://www.geeksforgeeks.org/important-topics-prepare-gate-2023-computer-science-paper/', 'https://practice.geeksforgeeks.org/courses/gate-live-course', 'https://www.geeksforgeeks.org/previous-solved-cs-papers-year-wise-gate-ugc-isro/', 'https://www.geeksforgeeks.org/git-tutorial/', 'https://www.geeksforgeeks.org/aws-tutorial/', 'https://www.geeksforgeeks.org/docker-tutorial/', 'https://www.geeksforgeeks.org/kubernetes-tutorial/', 'https://www.geeksforgeeks.org/microsoft-azure/', 'https://www.geeksforgeeks.org/quiz-corner-gq/#C%20Programming%20Mock%20Tests', 'https://www.geeksforgeeks.org/quiz-corner-gq/#C++%20Programming%20Mock%20Tests', 'https://www.geeksforgeeks.org/quiz-corner-gq/#Java%20Programming%20Mock%20Tests', 'https://www.geeksforgeeks.org/quiz-corner-gq/#Python%20Programming%20Mock%20Tests', 'https://www.geeksforgeeks.org/html-course-practice-quiz-1/', 'https://www.geeksforgeeks.org/css-quiz-set-1/', 'https://www.geeksforgeeks.org/javascript-course-quiz-1/', 'https://www.geeksforgeeks.org/quiz-corner-gq/#Data%20Structures%20Mock%20Tests', 'https://www.geeksforgeeks.org/quiz-corner-gq/#Algorithms%20Mock%20Tests', 'https://www.geeksforgeeks.org/quiz-corner-gq/', 'https://www.geeksforgeeks.org/cbse/', 'https://www.geeksforgeeks.org/cbse-notes/', 'https://www.geeksforgeeks.org/cbse-notes-for-class-8/', 'https://www.geeksforgeeks.org/cbse-notes-for-class-9/', 'https://www.geeksforgeeks.org/cbse-class-10-revision-notes/', 'https://www.geeksforgeeks.org/cbse-class-11-revision-notes/', 'https://www.geeksforgeeks.org/cbse-class-12-revision-notes/', 'https://www.geeksforgeeks.org/school-programming/', 'https://www.geeksforgeeks.org/english-grammar/', 'https://write.geeksforgeeks.org/posts-new?interview-experience&ref=GLBIE', 'https://write.geeksforgeeks.org/posts-new?cid=82536bdb-84e6-4661-87c3-e77c3ac04ede', 'https://www.geeksforgeeks.org/interview-preparation-for-software-developer/', 'https://www.geeksforgeeks.org/must-coding-questions-company-wise/', 'https://www.geeksforgeeks.org/must-do-coding-questions-for-companies-like-amazon-microsoft-adobe/', 'https://practice.geeksforgeeks.org/company-tags', 'https://www.geeksforgeeks.org/company-preparation/', 'https://www.geeksforgeeks.org/category/competitive-programming/', 'https://www.geeksforgeeks.org/software-design-patterns/', 'https://www.geeksforgeeks.org/company-interview-corner/', 'https://www.geeksforgeeks.org/experienced-interview-experiences-company-wise/', 'https://www.geeksforgeeks.org/internship-interview-experiences-company-wise/', 'https://practice.geeksforgeeks.org/problem-of-the-day', 'https://practice.geeksforgeeks.org/topic-tags/?ref=home', 'https://practice.geeksforgeeks.org/School/0/0/?ref=home', 'https://practice.geeksforgeeks.org/Basic/0/0/?ref=home', 'https://practice.geeksforgeeks.org/Easy/0/0/?ref=home', 'https://practice.geeksforgeeks.org/Medium/0/0/?ref=home', 'https://practice.geeksforgeeks.org/Hard/0/0/?ref=home', 'https://practice.geeksforgeeks.org/ranking.php?ref=home', 'https://practice.geeksforgeeks.org/explore/?company%5B%5D=Amazon&problemType=functional&page=1&sortBy=submissions', 'https://www.geeksforgeeks.org/array-data-structure/', 'https://www.geeksforgeeks.org/data-structures/linked-list/', 'https://www.geeksforgeeks.org/stack-data-structure/', 'https://www.geeksforgeeks.org/queue-data-structure/', 'https://www.geeksforgeeks.org/binary-tree-data-structure/', 'https://www.geeksforgeeks.org/binary-search-tree-data-structure/', 'https://www.geeksforgeeks.org/heap-data-structure/', 'https://www.geeksforgeeks.org/hashing-data-structure/', 'https://www.geeksforgeeks.org/graph-data-structure-and-algorithms/', 'https://www.geeksforgeeks.org/advanced-data-structures/', 'https://www.geeksforgeeks.org/matrix/', 'https://www.geeksforgeeks.org/string-data-structure/', 'https://www.geeksforgeeks.org/data-structures/', 'https://www.geeksforgeeks.org/fundamentals-of-algorithms/#AnalysisofAlgorithms', 'https://www.geeksforgeeks.org/searching-algorithms/', 'https://www.geeksforgeeks.org/sorting-algorithms/', 'https://www.geeksforgeeks.org/algorithms-gq/pattern-searching/', 'https://www.geeksforgeeks.org/geometric-algorithms/', 'https://www.geeksforgeeks.org/mathematical-algorithms/', 'https://www.geeksforgeeks.org/randomized-algorithms/', 'https://www.geeksforgeeks.org/greedy-algorithms/', 'https://www.geeksforgeeks.org/dynamic-programming/', 'https://www.geeksforgeeks.org/divide-and-conquer/', 'https://www.geeksforgeeks.org/backtracking-algorithms/', 'https://www.geeksforgeeks.org/branch-and-bound-algorithm/', 'https://www.geeksforgeeks.org/fundamentals-of-algorithms/', 'https://www.geeksforgeeks.org/c-programming-language/', 'https://www.geeksforgeeks.org/c-plus-plus/', 'https://www.geeksforgeeks.org/java/', 'https://www.geeksforgeeks.org/python-programming-language/', 'https://www.geeksforgeeks.org/csharp-programming-language/', 'https://www.geeksforgeeks.org/golang/', 'https://www.geeksforgeeks.org/sql-tutorial/', 'https://www.geeksforgeeks.org/php/', 'https://www.geeksforgeeks.org/scala-programming-language/', 'https://www.geeksforgeeks.org/perl-programming-language/', 'https://www.geeksforgeeks.org/kotlin-programming-language/', 'https://www.geeksforgeeks.org/html/', 'https://www.geeksforgeeks.org/css/', 'https://www.geeksforgeeks.org/javascript/', 'https://www.geeksforgeeks.org/jquery/', 'https://www.geeksforgeeks.org/php-tutorials/', 'https://www.geeksforgeeks.org/bootstrap/', 'https://www.geeksforgeeks.org/angularjs/', 'https://www.geeksforgeeks.org/reactjs-tutorials/', 'https://www.geeksforgeeks.org/nodejs/', 'https://www.geeksforgeeks.org/p5-js/', 'https://www.geeksforgeeks.org/lodash/', 'https://www.geeksforgeeks.org/jqwidgets/', 'https://www.geeksforgeeks.org/jquery-ui/', 'https://www.geeksforgeeks.org/wordpress/', 'https://www.geeksforgeeks.org/tailwind-css/', 'https://www.geeksforgeeks.org/json/', 'https://www.geeksforgeeks.org/jquery-mobile/', 'https://www.geeksforgeeks.org/collect-js/', 'https://www.geeksforgeeks.org/pure-css/', 'https://www.geeksforgeeks.org/bulma/', 'https://www.geeksforgeeks.org/foundation/', 'https://www.geeksforgeeks.org/materialize-css/', 'https://www.geeksforgeeks.org/semantic-ui/', 'https://www.geeksforgeeks.org/typescript/', 'https://www.geeksforgeeks.org/svg/', 'https://www.geeksforgeeks.org/express-js/', 'https://www.geeksforgeeks.org/ant-design/', 'https://www.geeksforgeeks.org/react-desktop/', 'https://www.geeksforgeeks.org/tensorflow-js/', 'https://www.geeksforgeeks.org/operating-systems/', 'https://www.geeksforgeeks.org/dbms/', 'https://www.geeksforgeeks.org/computer-network-tutorials/', 'https://www.geeksforgeeks.org/computer-organization-and-architecture-tutorials/', 'https://www.geeksforgeeks.org/theory-of-computation-automata-tutorials/', 'https://www.geeksforgeeks.org/compiler-design-tutorials/', 'https://www.geeksforgeeks.org/digital-electronics-logic-design-tutorials/', 'https://www.geeksforgeeks.org/software-engineering/', 'https://www.geeksforgeeks.org/engineering-mathematics-tutorials/', 'https://practice.geeksforgeeks.org/courses/data-science-live', 'https://www.geeksforgeeks.org/data-science-tutorial/', 'https://www.geeksforgeeks.org/machine-learning/', 'https://www.geeksforgeeks.org/deep-learning-tutorial/', 'https://www.geeksforgeeks.org/natural-language-processing-nlp-tutorial/', 'https://www.geeksforgeeks.org/machine-learning-project-with-source-code/', 'https://www.geeksforgeeks.org/data-analysis-tutorial/', 'https://www.geeksforgeeks.org/python-programming-language/', 'https://www.geeksforgeeks.org/django-tutorial/', 'https://www.geeksforgeeks.org/pandas-tutorial/', 'https://www.geeksforgeeks.org/kivy-tutorial/', 'https://www.geeksforgeeks.org/python-tkinter-tutorial/', 'https://www.geeksforgeeks.org/opencv-python-tutorial/', 'https://www.geeksforgeeks.org/selenium-python-tutorial/', 'https://www.geeksforgeeks.org/gate-cs-notes-gq/', 'https://www.geeksforgeeks.org/gate-corner-2-gq/', 'https://www.geeksforgeeks.org/original-gate-previous-year-question-papers-cse-and-it-gq/', 'https://www.geeksforgeeks.org/lmns-gq/', 'https://www.geeksforgeeks.org/important-topics-prepare-gate-2023-computer-science-paper/', 'https://practice.geeksforgeeks.org/courses/gate-live-course', 'https://www.geeksforgeeks.org/previous-solved-cs-papers-year-wise-gate-ugc-isro/', 'https://www.geeksforgeeks.org/git-tutorial/', 'https://www.geeksforgeeks.org/aws-tutorial/', 'https://www.geeksforgeeks.org/docker-tutorial/', 'https://www.geeksforgeeks.org/kubernetes-tutorial/', 'https://www.geeksforgeeks.org/microsoft-azure/', 'https://www.geeksforgeeks.org/quiz-corner-gq/#C%20Programming%20Mock%20Tests', 'https://www.geeksforgeeks.org/quiz-corner-gq/#C++%20Programming%20Mock%20Tests', 'https://www.geeksforgeeks.org/quiz-corner-gq/#Java%20Programming%20Mock%20Tests', 'https://www.geeksforgeeks.org/quiz-corner-gq/#Python%20Programming%20Mock%20Tests', 'https://www.geeksforgeeks.org/html-course-practice-quiz-1/', 'https://www.geeksforgeeks.org/css-quiz-set-1/', 'https://www.geeksforgeeks.org/javascript-course-quiz-1/', 'https://www.geeksforgeeks.org/quiz-corner-gq/#Data%20Structures%20Mock%20Tests', 'https://www.geeksforgeeks.org/quiz-corner-gq/#Algorithms%20Mock%20Tests', 'https://www.geeksforgeeks.org/quiz-corner-gq/', 'https://www.geeksforgeeks.org/cbse/', 'https://www.geeksforgeeks.org/cbse-notes/', 'https://www.geeksforgeeks.org/cbse-notes-for-class-8/', 'https://www.geeksforgeeks.org/cbse-notes-for-class-9/', 'https://www.geeksforgeeks.org/cbse-class-10-revision-notes/', 'https://www.geeksforgeeks.org/cbse-class-11-revision-notes/', 'https://www.geeksforgeeks.org/cbse-class-12-revision-notes/', 'https://www.geeksforgeeks.org/school-programming/', 'https://www.geeksforgeeks.org/english-grammar/', '#article-meta-div', 'javascript:void(0)', 'javascript:void(0)', 'javascript:void(0)', 'javascript:void(0)', 'javascript:void(0)', 'https://www.geeksforgeeks.org/introduction-to-web-scraping/', 'https://www.geeksforgeeks.org/python-programming-language/', 'https://www.geeksforgeeks.org/implementing-web-scraping-python-beautiful-soup/', 'https://www.geeksforgeeks.org/python-requests-tutorial/', 'https://www.geeksforgeeks.org/', 'https://www.geeksforgeeks.org/', 'https://www.geeksforgeeks.org/extract-all-the-urls-from-the-webpage-using-r-language/', 'https://www.geeksforgeeks.org/extract-all-the-urls-that-are-nested-within-li-tags-using-beautifulsoup/', 'https://www.geeksforgeeks.org/extract-title-from-a-webpage-using-python/', 'https://www.geeksforgeeks.org/python-program-to-recursively-scrape-all-the-urls-of-the-website/', 'https://www.geeksforgeeks.org/generating-dynamic-urls-in-flask/', 'https://www.geeksforgeeks.org/how-to-get-title-of-a-webpage-using-selenium-in-python/', 'https://www.geeksforgeeks.org/how-to-clone-webpage-using-pywebcopy-in-python/', 'https://www.geeksforgeeks.org/count-total-number-of-links-in-webpage-using-selenium-in-python/', 'https://www.geeksforgeeks.org/how-to-click-a-button-on-webpage-using-selenium/', 'https://www.geeksforgeeks.org/interacting-with-webpage-selenium-python/', 'https://www.geeksforgeeks.org/data-analysis-tutorial/', 'https://www.geeksforgeeks.org/flask-tutorial/', 'https://www.geeksforgeeks.org/natural-language-processing-nlp-tutorial/', 'https://www.geeksforgeeks.org/data-science-for-beginners/', 'https://www.geeksforgeeks.org/data-science-tutorial/', 'https://www.geeksforgeeks.org/extracting-an-attribute-value-with-beautifulsoup-in-python/', 'https://www.geeksforgeeks.org/extracting-an-attribute-value-with-beautifulsoup-in-python/', 'https://www.geeksforgeeks.org/python-average-digits-count-in-a-list/', 'https://www.geeksforgeeks.org/python-average-digits-count-in-a-list/', 'https://auth.geeksforgeeks.org/user/kumar_satyam/articles?utm_source=geeksforgeeks&utm_medium=article_author&utm_campaign=auth_user', 'https://auth.geeksforgeeks.org/user/kumar_satyam/articles?utm_source=geeksforgeeks&utm_medium=article_author&utm_campaign=auth_user', 'https://auth.geeksforgeeks.org/user/kumar_satyam/articles?utm_source=geeksforgeeks&utm_medium=article_author&utm_campaign=auth_user', 'https://auth.geeksforgeeks.org/user/skrg141', 'https://auth.geeksforgeeks.org/user/shlokdi35dq', 'https://www.geeksforgeeks.org/tag/python-web-scraping-exercises/', 'https://www.geeksforgeeks.org/tag/python-utility/', 'https://www.geeksforgeeks.org/tag/web-scraping/', 'https://www.geeksforgeeks.org/category/programming-language/python/', 'https://practice.geeksforgeeks.org/explore?category[]=python', 'https://practice.geeksforgeeks.org/courses/Data-Structures-With-Python?utm_source=geeksforgeeks&utm_medium=right_sidebar&utm_campaign=course_card', 'https://practice.geeksforgeeks.org/courses/data-science-live?utm_source=geeksforgeeks&utm_medium=right_sidebar&utm_campaign=course_card', 'https://practice.geeksforgeeks.org/courses/full-stack-node?utm_source=geeksforgeeks&utm_medium=right_sidebar&utm_campaign=course_card', 'https://practice.geeksforgeeks.org/explore?page=1&sortBy=submissions&utm_source=gfg&utm_medium=search-bar&utm_campaign=practice-search', 'https://www.geeksforgeeks.org/', 'mailto:feedback@geeksforgeeks.org', 'https://www.facebook.com/geeksforgeeks.org/', 'https://www.instagram.com/geeks_for_geeks/', 'https://in.linkedin.com/company/geeksforgeeks', 'https://twitter.com/geeksforgeeks', 'https://www.youtube.com/geeksforgeeksvideos', 'https://play.google.com/store/apps/details?id=free.programming.programming', 'https://apps.apple.com/in/app/geeksforgeeks-learn-coding/id1641848816', 'https://www.geeksforgeeks.org/about/', 'https://geeksforgeeks.zohorecruit.in/careers', 'https://www.geeksforgeeks.org/press-release/', 'https://www.geeksforgeeks.org/about/contact-us/', 'https://www.geeksforgeeks.org/terms-and-conditions/', 'https://www.geeksforgeeks.org/privacy-policy/', 'https://www.geeksforgeeks.org/copyright-information/', 'https://www.geeksforgeeks.org/third-party-copyright-notices/', 'https://www.geeksforgeeks.org/advertise-with-us/', 'https://www.geeksforgeeks.org/jobs', 'https://practice.geeksforgeeks.org/problem-of-the-day?utm_source=geeksforgeeks&utm_medium=footer&utm_campaign=potd', 'https://practice.geeksforgeeks.org/courses/py-dev-django?utm_source=geeksforgeeks&utm_medium=footer&utm_campaign=course', 'https://practice.geeksforgeeks.org/courses/android-dev-live?utm_source=geeksforgeeks&utm_medium=footer&utm_campaign=course', 'https://practice.geeksforgeeks.org/courses/devops-live?utm_source=geeksforgeeks&utm_medium=footer&utm_campaign=course', 'https://practice.geeksforgeeks.org/courses/javascript?utm_source=geeksforgeeks&utm_medium=footer&utm_campaign=course', 'https://www.geeksforgeeks.org/data-structures/', 'https://www.geeksforgeeks.org/python-programming-language/', 'https://www.geeksforgeeks.org/java/', 'https://www.geeksforgeeks.org/c-plus-plus/', 'https://www.geeksforgeeks.org/golang/', 'https://www.geeksforgeeks.org/sql-tutorial/', 'https://www.geeksforgeeks.org/r-tutorial/', 'https://www.geeksforgeeks.org/android-tutorial/', 'https://www.geeksforgeeks.org/data-structures/', 'https://www.geeksforgeeks.org/array-data-structure/', 'https://www.geeksforgeeks.org/string-data-structure/', 'https://www.geeksforgeeks.org/data-structures/linked-list/', 'https://www.geeksforgeeks.org/stack-data-structure/', 'https://www.geeksforgeeks.org/queue-data-structure/', 'https://www.geeksforgeeks.org/introduction-to-tree-data-structure-and-algorithm-tutorials/', 'https://www.geeksforgeeks.org/graph-data-structure-and-algorithms/', 'https://www.geeksforgeeks.org/fundamentals-of-algorithms/', 'https://www.geeksforgeeks.org/sorting-algorithms/', 'https://www.geeksforgeeks.org/searching-algorithms/', 'https://www.geeksforgeeks.org/greedy-algorithms/', 'https://www.geeksforgeeks.org/dynamic-programming/', 'https://www.geeksforgeeks.org/algorithms-gq/pattern-searching/', 'https://www.geeksforgeeks.org/introduction-to-recursion-data-structure-and-algorithm-tutorials/', 'https://www.geeksforgeeks.org/backtracking-algorithms/', 'https://www.geeksforgeeks.org/web-development/', 'https://www.geeksforgeeks.org/html/', 'https://www.geeksforgeeks.org/css/', 'https://www.geeksforgeeks.org/javascript/', 'https://www.geeksforgeeks.org/bootstrap/', 'https://www.geeksforgeeks.org/reactjs-tutorials/', 'https://www.geeksforgeeks.org/angularjs/', 'https://www.geeksforgeeks.org/nodejs/', 'https://www.geeksforgeeks.org/gate-cs-notes-gq/', 'https://www.geeksforgeeks.org/gate-cs-notes-gq/', 'https://www.geeksforgeeks.org/operating-systems/', 'https://www.geeksforgeeks.org/computer-network-tutorials/', 'https://www.geeksforgeeks.org/dbms/', 'https://www.geeksforgeeks.org/software-engineering/', 'https://www.geeksforgeeks.org/digital-electronics-logic-design-tutorials/', 'https://www.geeksforgeeks.org/engineering-mathematics-tutorials/', 'https://www.geeksforgeeks.org/python-programming-language/', 'https://www.geeksforgeeks.org/python-programming-examples/', 'https://www.geeksforgeeks.org/django-tutorial/', 'https://www.geeksforgeeks.org/python-projects-beginner-to-advanced/', 'https://www.geeksforgeeks.org/python-tkinter-tutorial/', 'https://www.geeksforgeeks.org/opencv-python-tutorial/', 'https://www.geeksforgeeks.org/python-interview-questions/', 'https://www.geeksforgeeks.org/data-science-tutorial/', 'https://www.geeksforgeeks.org/data-science-for-beginners/', 'https://www.geeksforgeeks.org/machine-learning/', 'https://www.geeksforgeeks.org/machine-learning-mathematics/', 'https://www.geeksforgeeks.org/pandas-tutorial/', 'https://www.geeksforgeeks.org/numpy-tutorial/', 'https://www.geeksforgeeks.org/natural-language-processing-nlp-tutorial/', 'https://www.geeksforgeeks.org/deep-learning-tutorial/', 'https://www.geeksforgeeks.org/devops-tutorial/', 'https://www.geeksforgeeks.org/git-tutorial/', 'https://www.geeksforgeeks.org/aws-tutorial/', 'https://www.geeksforgeeks.org/docker-tutorial/', 'https://www.geeksforgeeks.org/kubernetes-tutorial/', 'https://www.geeksforgeeks.org/microsoft-azure/', 'https://www.geeksforgeeks.org/google-cloud-platform-tutorial/', 'https://www.geeksforgeeks.org/competitive-programming-a-complete-guide/', 'https://www.geeksforgeeks.org/top-algorithms-and-data-structures-for-competitive-programming/', 'https://www.geeksforgeeks.org/top-50-tree-coding-problems-for-interviews', 'https://www.geeksforgeeks.org/top-50-graph-coding-problems-for-interviews/', 'https://www.geeksforgeeks.org/top-50-array-coding-problems-for-interviews/', 'https://www.geeksforgeeks.org/top-50-string-coding-problems-for-interviews/', 'https://www.geeksforgeeks.org/top-50-dynamic-programming-coding-problems-for-interviews/', 'https://www.geeksforgeeks.org/top-15-websites-for-coding-challenges-and-competitions/', 'https://www.geeksforgeeks.org/system-design-tutorial/', 'https://www.geeksforgeeks.org/what-is-system-design-learn-system-design/', 'https://www.geeksforgeeks.org/analysis-of-monolithic-and-distributed-systems-learn-system-design/', 'https://www.geeksforgeeks.org/what-is-scalability-and-how-to-achieve-it-learn-system-design/', 'https://www.geeksforgeeks.org/complete-reference-to-databases-in-designing-systems/', 'https://www.geeksforgeeks.org/what-is-high-level-design-learn-system-design/', 'https://www.geeksforgeeks.org/what-is-low-level-design-or-lld-learn-system-design/', 'https://www.geeksforgeeks.org/top-10-system-design-interview-questions-and-answers/', 'https://www.geeksforgeeks.org/company-preparation/', 'https://www.geeksforgeeks.org/interview-preparation-for-software-developer/', 'https://www.geeksforgeeks.org/company-interview-corner/', 'https://www.geeksforgeeks.org/experienced-interview-experiences-company-wise/', 'https://www.geeksforgeeks.org/internship-interview-experiences-company-wise/', 'https://www.geeksforgeeks.org/competitive-programming-a-complete-guide/', 'https://www.geeksforgeeks.org/aptitude-questions-and-answers/', 'https://www.geeksforgeeks.org/geeksforgeeks-school/', 'https://www.geeksforgeeks.org/cbse-notes-for-class-8/', 'https://www.geeksforgeeks.org/cbse-notes-for-class-9/', 'https://www.geeksforgeeks.org/cbse-class-10-revision-notes/', 'https://www.geeksforgeeks.org/cbse-class-11-revision-notes/', 'https://www.geeksforgeeks.org/cbse-class-12-revision-notes/', 'https://www.geeksforgeeks.org/english-grammar/', 'https://www.geeksforgeeks.org/accountancy/', 'https://www.geeksforgeeks.org/business-studies/', 'https://www.geeksforgeeks.org/microeconomics/', 'https://www.geeksforgeeks.org/macroeconomics/', 'https://www.geeksforgeeks.org/statistics-for-economics/', 'https://www.geeksforgeeks.org/indian-economic-development/', 'https://www.geeksforgeeks.org/important-topics-in-polity-for-upsc/', 'https://www.geeksforgeeks.org/important-topics-of-geography-for-upsc/', 'https://www.geeksforgeeks.org/history-notes-for-upsc-exam/', 'https://www.geeksforgeeks.org/important-topics-of-science-and-technology-for-upsc/', 'https://www.geeksforgeeks.org/indian-economy-notes-upsc/', 'https://www.geeksforgeeks.org/important-topics-in-ethics-for-upsc/', 'https://www.geeksforgeeks.org/upsc-previous-year-question-paper-solutions/', 'https://www.geeksforgeeks.org/ssc-cgl-syllabus-2022/', 'https://www.geeksforgeeks.org/sbi-po-syllabus-2023/', 'https://www.geeksforgeeks.org/sbi-clerk-syllabus-2022/', 'https://www.geeksforgeeks.org/syllabus-of-ibps-po-2022/', 'https://www.geeksforgeeks.org/detailed-syllabus-of-ibps-clerk/', 'https://www.geeksforgeeks.org/aptitude-questions-and-answers/', 'https://www.geeksforgeeks.org/ssc-cgl-practice-papers/', 'https://write.geeksforgeeks.org/?ref=footer', 'https://www.geeksforgeeks.org/how-to-improve-an-article/', 'https://write.geeksforgeeks.org/pick-article/?ref=footer', 'https://www.geeksforgeeks.org/write-interview-experience/', 'https://write.geeksforgeeks.org/internship/?ref=footer', 'https://script.geeksforgeeks.org/on-boarding/youtube?ref=footer', 'https://www.geeksforgeeks.org/', 'https://www.geeksforgeeks.org/copyright-information/', 'https://www.geeksforgeeks.org/cookie-policy/', 'https://www.geeksforgeeks.org/privacy-policy/']\n"
          ]
        }
      ]
    },
    {
      "cell_type": "code",
      "source": [
        "n1 = len(listwww)\n",
        "print(n,n1)"
      ],
      "metadata": {
        "id": "3TPvaUIB1nkG",
        "colab": {
          "base_uri": "https://localhost:8080/"
        },
        "outputId": "3bd75d91-ffbd-4e87-bc3c-bc68cdb0b12c"
      },
      "execution_count": null,
      "outputs": [
        {
          "output_type": "stream",
          "name": "stdout",
          "text": [
            "10 4\n"
          ]
        }
      ]
    },
    {
      "cell_type": "code",
      "source": [
        "listapi = []\n",
        "for i in range(10):\n",
        "  list_google = scrape_google(str(title[i]+\" \"+pub[i])+\" scopus\")\n",
        "  for j in list_google:\n",
        "    if(j.__contains__('sciencedirect')):\n",
        "      listapi.append(j)\n",
        "      n1 = n1+1\n",
        "      print(n1)\n",
        "    if(n1==n):\n",
        "      break\n",
        "  if(n1==n):\n",
        "      break"
      ],
      "metadata": {
        "id": "P9peU71D46tX",
        "colab": {
          "base_uri": "https://localhost:8080/"
        },
        "outputId": "3532dc43-3255-47b7-b90e-bf2323823030"
      },
      "execution_count": null,
      "outputs": [
        {
          "output_type": "stream",
          "name": "stdout",
          "text": [
            "5\n",
            "6\n",
            "7\n",
            "8\n",
            "9\n",
            "10\n"
          ]
        }
      ]
    },
    {
      "cell_type": "code",
      "source": [
        "listapi"
      ],
      "metadata": {
        "colab": {
          "base_uri": "https://localhost:8080/"
        },
        "id": "Qcc-ClRBBkTD",
        "outputId": "3950a44d-6b53-4c3a-ee14-62ac8429877c"
      },
      "execution_count": null,
      "outputs": [
        {
          "output_type": "execute_result",
          "data": {
            "text/plain": [
              "['https://www.sciencedirect.com/science/article/abs/pii/S0959652618332980',\n",
              " 'https://www.sciencedirect.com/science/article/abs/pii/S0959652617319480',\n",
              " 'https://www.sciencedirect.com/science/article/abs/pii/S0269749119373269',\n",
              " 'https://www.sciencedirect.com/science/article/abs/pii/S0378429012004662',\n",
              " 'https://www.sciencedirect.com/science/article/pii/S1110016822006160',\n",
              " 'https://www.sciencedirect.com/science/article/pii/B9780128191095000062#!']"
            ]
          },
          "metadata": {},
          "execution_count": 73
        }
      ]
    },
    {
      "cell_type": "code",
      "source": [],
      "metadata": {
        "id": "A7c9LC-_Bqff"
      },
      "execution_count": null,
      "outputs": []
    },
    {
      "cell_type": "code",
      "source": [
        "listwww"
      ],
      "metadata": {
        "colab": {
          "base_uri": "https://localhost:8080/"
        },
        "id": "v3W5izd_B7Jd",
        "outputId": "a1bf1467-6bbc-4496-c262-2bcf0d5f54dd"
      },
      "execution_count": null,
      "outputs": [
        {
          "output_type": "execute_result",
          "data": {
            "text/plain": [
              "['https://www.sciencedirect.com/science/article/pii/S1001074223000748',\n",
              " 'https://www.sciencedirect.com/science/article/pii/S1001074223000086',\n",
              " 'https://www.sciencedirect.com/science/article/pii/S2352484723003578',\n",
              " 'https://www.sciencedirect.com/science/article/pii/S2352484723003529',\n",
              " 'https://www.sciencedirect.com/science/article/abs/pii/S0959652618332980',\n",
              " 'https://www.sciencedirect.com/science/article/abs/pii/S0959652617319480',\n",
              " 'https://www.sciencedirect.com/science/article/abs/pii/S0269749119373269',\n",
              " 'https://www.sciencedirect.com/science/article/abs/pii/S0378429012004662',\n",
              " 'https://www.sciencedirect.com/science/article/pii/S1110016822006160',\n",
              " 'https://www.sciencedirect.com/science/article/pii/B9780128191095000062#!']"
            ]
          },
          "metadata": {},
          "execution_count": 75
        }
      ]
    },
    {
      "cell_type": "code",
      "source": [
        "response = requests.get(\n",
        "url='https://proxy.scrapeops.io/v1/',\n",
        "params={\n",
        "'api_key': '  f8001d4e-d350-45aa-b536-be9f3431ce6d',\n",
        "'url':'https://www.sciencedirect.com/science/article/abs/pii/S0959652618332980',\n",
        "}\n",
        ")\n",
        "string = str(response.content)\n",
        "listw = string.split('country\",\"_\":\"')\n",
        "countr = listw[1].split('\"}')\n",
        "print(countr[0])"
      ],
      "metadata": {
        "id": "ch0DbNH-DpnQ",
        "colab": {
          "base_uri": "https://localhost:8080/",
          "height": 217
        },
        "outputId": "34d79b6a-74f2-4cfc-e45a-1050fc1e1fa7"
      },
      "execution_count": null,
      "outputs": [
        {
          "output_type": "error",
          "ename": "IndexError",
          "evalue": "ignored",
          "traceback": [
            "\u001b[0;31m---------------------------------------------------------------------------\u001b[0m",
            "\u001b[0;31mIndexError\u001b[0m                                Traceback (most recent call last)",
            "\u001b[0;32m<ipython-input-44-62e9524a5554>\u001b[0m in \u001b[0;36m<cell line: 10>\u001b[0;34m()\u001b[0m\n\u001b[1;32m      8\u001b[0m \u001b[0mstring\u001b[0m \u001b[0;34m=\u001b[0m \u001b[0mstr\u001b[0m\u001b[0;34m(\u001b[0m\u001b[0mresponse\u001b[0m\u001b[0;34m.\u001b[0m\u001b[0mcontent\u001b[0m\u001b[0;34m)\u001b[0m\u001b[0;34m\u001b[0m\u001b[0;34m\u001b[0m\u001b[0m\n\u001b[1;32m      9\u001b[0m \u001b[0mlistw\u001b[0m \u001b[0;34m=\u001b[0m \u001b[0mstring\u001b[0m\u001b[0;34m.\u001b[0m\u001b[0msplit\u001b[0m\u001b[0;34m(\u001b[0m\u001b[0;34m'country\",\"_\":\"'\u001b[0m\u001b[0;34m)\u001b[0m\u001b[0;34m\u001b[0m\u001b[0;34m\u001b[0m\u001b[0m\n\u001b[0;32m---> 10\u001b[0;31m \u001b[0mcountr\u001b[0m \u001b[0;34m=\u001b[0m \u001b[0mlistw\u001b[0m\u001b[0;34m[\u001b[0m\u001b[0;36m1\u001b[0m\u001b[0;34m]\u001b[0m\u001b[0;34m.\u001b[0m\u001b[0msplit\u001b[0m\u001b[0;34m(\u001b[0m\u001b[0;34m'\"}'\u001b[0m\u001b[0;34m)\u001b[0m\u001b[0;34m\u001b[0m\u001b[0;34m\u001b[0m\u001b[0m\n\u001b[0m\u001b[1;32m     11\u001b[0m \u001b[0mprint\u001b[0m\u001b[0;34m(\u001b[0m\u001b[0mcountr\u001b[0m\u001b[0;34m[\u001b[0m\u001b[0;36m0\u001b[0m\u001b[0;34m]\u001b[0m\u001b[0;34m)\u001b[0m\u001b[0;34m\u001b[0m\u001b[0;34m\u001b[0m\u001b[0m\n",
            "\u001b[0;31mIndexError\u001b[0m: list index out of range"
          ]
        }
      ]
    },
    {
      "cell_type": "code",
      "source": [],
      "metadata": {
        "id": "GcIo79fl_mja"
      },
      "execution_count": null,
      "outputs": []
    }
  ]
}